{
 "cells": [
  {
   "cell_type": "markdown",
   "metadata": {},
   "source": [
    "# Assignment IV\n",
    "\n",
    "Atahan Özer - 6317973\\\n",
    "Karahan Sarıtaş - 6661689\n",
    "\n",
    "## Problem 2\n",
    "**(a)** Compute the graphlet kernel using sampling for the graphlets of size 3 (1000 samples). Perform a 10-fold\n",
    "cross-validation for the binary classification problem using the kernel with an SVM. What is the accuracy for\n",
    "the best $C \\in \\{0.0001, 0.001, 0.01, 0.1, 1, 10\\}$? You can expect something larger than 0.8. Evaluating the accuracy\n",
    "for the best $C$ value is sufficient, you do not have to evaluate the test accuracy separately. How many samples would you need such that the deviation from the real distribution is less than 0.05 with probability larger than 0.9?\n"
   ]
  },
  {
   "cell_type": "code",
   "execution_count": 1,
   "metadata": {},
   "outputs": [],
   "source": [
    "from grakel.kernels import GraphletSampling\n",
    "from grakel.kernels import WeisfeilerLehman\n",
    "from grakel.kernels import VertexHistogram\n",
    "from grakel.kernels import EdgeHistogram\n",
    "from grakel.datasets import fetch_dataset\n",
    "import numpy as np\n",
    "\n",
    "from sklearn.svm import SVC\n",
    "from sklearn.metrics import accuracy_score\n",
    "from sklearn.model_selection import KFold\n",
    "\n",
    "import matplotlib.pyplot as plt\n",
    "import seaborn as sns"
   ]
  },
  {
   "cell_type": "code",
   "execution_count": 2,
   "metadata": {},
   "outputs": [
    {
     "data": {
      "text/plain": [
       "(188, 188)"
      ]
     },
     "execution_count": 2,
     "metadata": {},
     "output_type": "execute_result"
    }
   ],
   "source": [
    "# https://ysig.github.io/GraKeL/0.1a8/documentation/introduction.html\n",
    "\n",
    "MUTAG = fetch_dataset(\"MUTAG\", verbose=False)\n",
    "G = MUTAG.data\n",
    "y = MUTAG.target\n",
    "# G_i = Graph object, Node Labels, Edge Labels\n",
    "len(G), len(y)  # y: {1, -1} binary classification"
   ]
  },
  {
   "cell_type": "code",
   "execution_count": 57,
   "metadata": {},
   "outputs": [
    {
     "data": {
      "text/plain": [
       "(188, 188)"
      ]
     },
     "execution_count": 57,
     "metadata": {},
     "output_type": "execute_result"
    }
   ],
   "source": [
    "# Graphlet sampling kernel\n",
    "gk = GraphletSampling(k=3,\n",
    "                      sampling={\"n_samples\": 1000},\n",
    "                      random_state=15\n",
    "                      )\n",
    "K = gk.fit_transform(G)\n",
    "K.shape"
   ]
  },
  {
   "cell_type": "code",
   "execution_count": 59,
   "metadata": {},
   "outputs": [],
   "source": [
    "C = [0.0001, 0.001, 0.01, 0.1, 1, 10]"
   ]
  },
  {
   "cell_type": "code",
   "execution_count": 45,
   "metadata": {},
   "outputs": [
    {
     "name": "stdout",
     "output_type": "stream",
     "text": [
      "Run for C: 0.0001\n",
      "Accuracy: 0.8947\n",
      "Accuracy: 0.8421\n",
      "Accuracy: 0.6842\n",
      "Accuracy: 0.9474\n",
      "Accuracy: 0.7895\n",
      "Accuracy: 0.8947\n",
      "Accuracy: 0.7895\n",
      "Accuracy: 0.8421\n",
      "Accuracy: 0.7222\n",
      "Accuracy: 0.8889\n",
      "Average accuracy over splits: 0.8295 for C: 0.0001\n",
      "<------------------------------------------------------------>\n",
      "Run for C: 0.001\n",
      "Accuracy: 0.8947\n",
      "Accuracy: 0.8421\n",
      "Accuracy: 0.6842\n",
      "Accuracy: 0.9474\n",
      "Accuracy: 0.7895\n",
      "Accuracy: 0.8947\n",
      "Accuracy: 0.7895\n",
      "Accuracy: 0.8421\n",
      "Accuracy: 0.7222\n",
      "Accuracy: 0.8889\n",
      "Average accuracy over splits: 0.8295 for C: 0.001\n",
      "<------------------------------------------------------------>\n",
      "Run for C: 0.01\n",
      "Accuracy: 0.8947\n",
      "Accuracy: 0.8421\n",
      "Accuracy: 0.6842\n",
      "Accuracy: 0.9474\n",
      "Accuracy: 0.7895\n",
      "Accuracy: 0.8947\n",
      "Accuracy: 0.7895\n",
      "Accuracy: 0.8421\n",
      "Accuracy: 0.7222\n",
      "Accuracy: 0.8889\n",
      "Average accuracy over splits: 0.8295 for C: 0.01\n",
      "<------------------------------------------------------------>\n",
      "Run for C: 0.1\n",
      "Accuracy: 0.8947\n",
      "Accuracy: 0.8421\n",
      "Accuracy: 0.6842\n",
      "Accuracy: 0.9474\n",
      "Accuracy: 0.7895\n",
      "Accuracy: 0.8947\n",
      "Accuracy: 0.7895\n",
      "Accuracy: 0.8421\n",
      "Accuracy: 0.7222\n",
      "Accuracy: 0.8889\n",
      "Average accuracy over splits: 0.8295 for C: 0.1\n",
      "<------------------------------------------------------------>\n",
      "Run for C: 1\n",
      "Accuracy: 0.8947\n",
      "Accuracy: 0.8421\n",
      "Accuracy: 0.6842\n",
      "Accuracy: 0.9474\n",
      "Accuracy: 0.7895\n",
      "Accuracy: 0.8947\n",
      "Accuracy: 0.7895\n",
      "Accuracy: 0.8421\n",
      "Accuracy: 0.7222\n",
      "Accuracy: 0.8889\n",
      "Average accuracy over splits: 0.8295 for C: 1\n",
      "<------------------------------------------------------------>\n",
      "Run for C: 10\n",
      "Accuracy: 0.8947\n",
      "Accuracy: 0.8421\n",
      "Accuracy: 0.6842\n",
      "Accuracy: 0.9474\n",
      "Accuracy: 0.7895\n",
      "Accuracy: 0.8947\n",
      "Accuracy: 0.7895\n",
      "Accuracy: 0.8421\n",
      "Accuracy: 0.7222\n",
      "Accuracy: 0.8889\n",
      "Average accuracy over splits: 0.8295 for C: 10\n",
      "<------------------------------------------------------------>\n",
      "Best accuracy: 0.8295 for C: 10\n"
     ]
    }
   ],
   "source": [
    "def CV(n_splits=10):\n",
    "    kf = KFold(n_splits=n_splits, shuffle=True, random_state=15)\n",
    "    acc = []\n",
    "    best, best_c = 0, 0\n",
    "    for c in C:\n",
    "        mean_acc = 0\n",
    "        print(\"Run for C: {}\".format(c))\n",
    "        for train_index, val_index in kf.split(K):\n",
    "            X_train, X_test = K[train_index][:, train_index], K[val_index][:, train_index]\n",
    "            y_train, y_test = y[train_index], y[val_index]\n",
    "            clf = SVC(kernel=\"precomputed\", C=c)\n",
    "            clf.fit(X_train, y_train)\n",
    "            y_pred = clf.predict(X_test)\n",
    "            accuracy = accuracy_score(y_test, y_pred)\n",
    "            print(\"Accuracy: {:.4f}\".format(accuracy))\n",
    "            acc.append(accuracy)\n",
    "            mean_acc += accuracy\n",
    "        mean_acc /= 10\n",
    "        print(\"Average accuracy over splits: {:.4f} for C: {}\".format(mean_acc, c))\n",
    "        print(\"<\", \"-\" * 60, \">\", sep=\"\")\n",
    "        if not (mean_acc < best):\n",
    "            best = mean_acc\n",
    "            best_c = c\n",
    "    print(\"Best accuracy: {:.4f} for C: {}\".format(best, best_c))\n",
    "\n",
    "CV()"
   ]
  },
  {
   "cell_type": "markdown",
   "metadata": {},
   "source": [
    "**A**: All $C$ values yield the same accuracy of  $82.95\\%$. If we don't set the number of samples to $1000$, then the best accuracy is achieved when $C=0.1$ with an accuracy of $87.75\\%$. \n",
    "\n",
    "**Theorem**: Let $D$ be a probability distribution on the finite set $A = \\{1, ..., a\\}$ (in our case set of all size $k$ graphlets). Let $X := \\{X_j\\}^{m}_{j=1}$, with $X_j \\sim D$. For a given $\\epsilon > 0$ and $\\delta > 0$: \n",
    "\n",
    "$$\n",
    "m = \\left \\lceil \\frac{2 (\\log 2 \\cdot a + \\log(\\frac{1}{\\delta}))}{\\epsilon^{2}} \\right \\rceil\n",
    "$$\n",
    "\n",
    "samples are sufficient to satisfy the following \n",
    "inequality:\n",
    "$$\n",
    "P \\left \\{\\lVert D - \\^D^m \\rVert_1 \\geq \\epsilon  \\right\\} \\leq \\delta\n",
    "$$\n",
    "\n",
    "* We have 188 many graphs in the dataset.\n",
    "* In order to calculate the value of $a$, we have to calculate the number of all possible size 3 graphlets for the *largest* graph (so that the inequality holds for all graphs in the dataset)."
   ]
  },
  {
   "cell_type": "code",
   "execution_count": 46,
   "metadata": {},
   "outputs": [
    {
     "data": {
      "text/plain": [
       "3276.0"
      ]
     },
     "execution_count": 46,
     "metadata": {},
     "output_type": "execute_result"
    }
   ],
   "source": [
    "max_nodes = 0\n",
    "for g in G:\n",
    "    n_nodes = len(g[1])\n",
    "    max_nodes = max(max_nodes, n_nodes)\n",
    "max_nodes\n",
    "\n",
    "a = (max_nodes) * (max_nodes - 1) * (max_nodes - 2) / 6\n",
    "a"
   ]
  },
  {
   "cell_type": "code",
   "execution_count": 47,
   "metadata": {},
   "outputs": [
    {
     "data": {
      "text/plain": [
       "1818443.0"
      ]
     },
     "execution_count": 47,
     "metadata": {},
     "output_type": "execute_result"
    }
   ],
   "source": [
    "confidence = 0.9\n",
    "epsilon = 0.05\n",
    "delta = 1 - confidence\n",
    "\n",
    "m = np.ceil(2 * (np.log(2) * a + np.log(1 / delta)) / (epsilon ** 2))\n",
    "m\n"
   ]
  },
  {
   "cell_type": "markdown",
   "metadata": {},
   "source": [
    "Calculated value appears to be extremely high. Observe that even the current number of samples we have are almost sufficient to get an accuracy of +0.80 with a higher confidence. One observartion is that there are remarkably less number of distinct graphlets than the total number of graphlets. According to the paper:\n",
    "\n",
    "When dealing with unlabeled graphs, there are a total of $2^{ {n \\choose k}}$ possible graphlets of size $k$. But, modulo isomorphism, there are only $N_k < 2^{ {n \\choose k}}$ distinct graphlets. For example, consider the case $k = 4$: We have $a = N_k = 11$, while $2^{ {4 \\choose 2}} = 64$. If we set $\\epsilon = 0.05$ and $\\delta = 0.05$, then our bound implies that we only need to sample 8,497 graphlets from a graph. If we decrease $\\epsilon$ to $0.01$ and $\\delta$ to $0.01$, then this number increases to $244,596$ [1].\n",
    "\n",
    "\n",
    "\n",
    "[1] Shervashidze, N., Vishwanathan, S., Petri, T., Mehlhorn, K. &amp; Borgwardt, K.. (2009). Efficient graphlet kernels for large graph comparison. <i>Proceedings of the Twelth International Conference on Artificial Intelligence and Statistics</i>, in <i>Proceedings of Machine Learning Research</i> 5:488-495 Available from https://proceedings.mlr.press/v5/shervashidze09a.html.\n",
    "\n"
   ]
  },
  {
   "cell_type": "markdown",
   "metadata": {},
   "source": [
    "There are at most 4 distinct graphlets of size 3:\n",
    "* A graphlet where all nodes are connected to each other by a unique edge (complete graph).\n",
    "* A graphlet where two nodes are not directly connected to each other.\n",
    "* A graphlet where one node is independent from other nodes - whereas other two nodes are connected to each other.\n",
    "* A graphlet where all nodes are independent from each other.\n",
    "\n",
    "Let's take $a=4$ and calculate the number of samples needed to satisfy the inequality."
   ]
  },
  {
   "cell_type": "code",
   "execution_count": 48,
   "metadata": {},
   "outputs": [
    {
     "data": {
      "text/plain": [
       "4061.0"
      ]
     },
     "execution_count": 48,
     "metadata": {},
     "output_type": "execute_result"
    }
   ],
   "source": [
    "confidence = 0.9\n",
    "epsilon = 0.05\n",
    "delta = 1 - confidence\n",
    "a = 4\n",
    "\n",
    "m = np.ceil(2 * (np.log(2) * a + np.log(1 / delta)) / (epsilon ** 2))\n",
    "m"
   ]
  },
  {
   "cell_type": "markdown",
   "metadata": {},
   "source": [
    "**(b)** Compute the Weisfeiler-Lehman subtree kernel for 4 iterations. Perform a 10-fold cross-validation for the binary classification problem using the kernel with an SVM. What is the accuracy for the best\n",
    "$C \\in \\{0.0001, 0.001, 0.01, 0.1, 1, 10\\}$? You can expect something larger than 0.85. Evaluating the accuracy for the best $C$ value is sufficient, you do not have to evaluate the test accuracy separately."
   ]
  },
  {
   "cell_type": "code",
   "execution_count": 49,
   "metadata": {},
   "outputs": [
    {
     "data": {
      "text/plain": [
       "(188, 188)"
      ]
     },
     "execution_count": 49,
     "metadata": {},
     "output_type": "execute_result"
    }
   ],
   "source": [
    "# Weisfeiler-Lehman subtree kernel\n",
    "# https://ysig.github.io/GraKeL/0.1a8/auto_examples/weisfeiler_lehman_subtree.html#sphx-glr-auto-examples-weisfeiler-lehman-subtree-py\n",
    "gk = WeisfeilerLehman(n_iter=4, base_graph_kernel=VertexHistogram, normalize=True)\n",
    "K = gk.fit_transform(G)\n",
    "K.shape"
   ]
  },
  {
   "cell_type": "code",
   "execution_count": 50,
   "metadata": {},
   "outputs": [
    {
     "name": "stdout",
     "output_type": "stream",
     "text": [
      "Run for C: 0.0001\n",
      "Accuracy: 0.7895\n",
      "Accuracy: 0.6316\n",
      "Accuracy: 0.6842\n",
      "Accuracy: 0.7895\n",
      "Accuracy: 0.7368\n",
      "Accuracy: 0.5789\n",
      "Accuracy: 0.6316\n",
      "Accuracy: 0.5789\n",
      "Accuracy: 0.6667\n",
      "Accuracy: 0.5556\n",
      "Average accuracy over splits: 0.6643 for C: 0.0001\n",
      "<------------------------------------------------------------>\n",
      "Run for C: 0.001\n",
      "Accuracy: 0.7895\n",
      "Accuracy: 0.6316\n",
      "Accuracy: 0.6842\n",
      "Accuracy: 0.7895\n",
      "Accuracy: 0.7368\n",
      "Accuracy: 0.5789\n",
      "Accuracy: 0.6316\n",
      "Accuracy: 0.5789\n",
      "Accuracy: 0.6667\n",
      "Accuracy: 0.5556\n",
      "Average accuracy over splits: 0.6643 for C: 0.001\n",
      "<------------------------------------------------------------>\n",
      "Run for C: 0.01\n",
      "Accuracy: 0.7895\n",
      "Accuracy: 0.6316\n",
      "Accuracy: 0.6842\n",
      "Accuracy: 0.7895\n",
      "Accuracy: 0.7368\n",
      "Accuracy: 0.5789\n",
      "Accuracy: 0.6316\n",
      "Accuracy: 0.5789\n",
      "Accuracy: 0.6667\n",
      "Accuracy: 0.5556\n",
      "Average accuracy over splits: 0.6643 for C: 0.01\n",
      "<------------------------------------------------------------>\n",
      "Run for C: 0.1\n",
      "Accuracy: 0.7895\n",
      "Accuracy: 0.6316\n",
      "Accuracy: 0.6842\n",
      "Accuracy: 0.7895\n",
      "Accuracy: 0.7368\n",
      "Accuracy: 0.5789\n",
      "Accuracy: 0.6316\n",
      "Accuracy: 0.5789\n",
      "Accuracy: 0.6667\n",
      "Accuracy: 0.5556\n",
      "Average accuracy over splits: 0.6643 for C: 0.1\n",
      "<------------------------------------------------------------>\n",
      "Run for C: 1\n",
      "Accuracy: 0.8421\n",
      "Accuracy: 0.8421\n",
      "Accuracy: 0.6842\n",
      "Accuracy: 0.8947\n",
      "Accuracy: 0.6842\n",
      "Accuracy: 0.7895\n",
      "Accuracy: 0.7368\n",
      "Accuracy: 0.6842\n",
      "Accuracy: 0.7778\n",
      "Accuracy: 0.7222\n",
      "Average accuracy over splits: 0.7658 for C: 1\n",
      "<------------------------------------------------------------>\n",
      "Run for C: 10\n",
      "Accuracy: 0.8421\n",
      "Accuracy: 0.7895\n",
      "Accuracy: 0.8947\n",
      "Accuracy: 1.0000\n",
      "Accuracy: 0.8421\n",
      "Accuracy: 0.8421\n",
      "Accuracy: 0.8947\n",
      "Accuracy: 0.8421\n",
      "Accuracy: 0.7222\n",
      "Accuracy: 0.8333\n",
      "Average accuracy over splits: 0.8503 for C: 10\n",
      "<------------------------------------------------------------>\n",
      "Best accuracy: 0.8503 for C: 10\n"
     ]
    }
   ],
   "source": [
    "CV()"
   ]
  },
  {
   "cell_type": "markdown",
   "metadata": {},
   "source": [
    "Best accuracy is achieved when $C=10$ with an accuracy of $85.03\\%$."
   ]
  },
  {
   "cell_type": "markdown",
   "metadata": {},
   "source": [
    "**(c)** Compute the Weisfeiler-Lehman edge kernel (WLedge.m) for 1 iteration. Perform a 10-fold cross-validation\n",
    "for the binary classification problem using the kernel with an SVM. What is the accuracy for the best\n",
    "$C \\in \\{0.0001, 0.001, 0.01, 0.1, 1, 10, 100\\}$?\n"
   ]
  },
  {
   "cell_type": "markdown",
   "metadata": {},
   "source": [
    "In order to compute the Weisfeiler-Lehman edge kernel, we will choose the graph base kernel as `EdgeHistogram`. But here is the caveat: Edge kernel used by the `EdgeHistogram` function is not the same as the Weisfeiler-Lehman edge kernel. To put it simply, `EdgeHistogram` kernel examines the edge labels in each graph, whereas the Weisfeiler-Lehman edge kernel examines the node labels $(a, b)$ for each edge. These labels have different meanings as explained by the documentation of MUTAG dataset:\n",
    "\"Explicit hydrogen atoms have been removed and vertices are labeled\n",
    "by atom type and edges by bond type (single, double, triple or aromatic).\"\n",
    "\n",
    "So, the idea is to replace the edge labels with the format used in the Weisfeiler-Lehman edge kernel. We will replace the edge labels with an integer that corresponds to a unique tuple consisting of ordered labels (natural order) of the nodes that edge connects. Such bijective mapping can be done with prime integers. If we have an edge between nodes $a$ and $b$, then we will replace the edge label with an integer $x$ such that $f(x) = (a, b)$. This way, we will be able to use the `EdgeHistogram` kernel to compute the Weisfeiler-Lehman edge kernel."
   ]
  },
  {
   "cell_type": "code",
   "execution_count": 60,
   "metadata": {},
   "outputs": [],
   "source": [
    "for i in range(len(G)):\n",
    "    graph_structure = G[i][0]\n",
    "    node_labels = G[i][1]\n",
    "    edge_labels = G[i][2]\n",
    "\n",
    "    def bijective_mapping(tuple):\n",
    "        # given a tuple, return a unique integer \n",
    "        # (a, b) -->  2^a * 3^b\n",
    "        return 2**tuple[0] * 3**tuple[1]\n",
    "    \n",
    "    edge_labels_temp = edge_labels.copy()\n",
    "    for edge in edge_labels_temp:\n",
    "        label = edge_labels[edge]\n",
    "        n1, n2 = edge[0], edge[1]\n",
    "\n",
    "        n1_label = node_labels[n1]\n",
    "        n2_label = node_labels[n2]\n",
    "        # ordered labels\n",
    "        if n1_label > n2_label:\n",
    "            n1_label, n2_label = n2_label, n1_label\n",
    "        edge_labels_temp[edge] = bijective_mapping((n1_label, n2_label))\n",
    "    G[i] = (graph_structure, node_labels, edge_labels_temp)"
   ]
  },
  {
   "cell_type": "code",
   "execution_count": 61,
   "metadata": {},
   "outputs": [],
   "source": [
    "gk = WeisfeilerLehman(n_iter=1, base_graph_kernel=EdgeHistogram, normalize=True)\n",
    "K = gk.fit_transform(G)\n",
    "K.shape\n",
    "\n",
    "C = C + [100]"
   ]
  },
  {
   "cell_type": "code",
   "execution_count": 63,
   "metadata": {},
   "outputs": [
    {
     "name": "stdout",
     "output_type": "stream",
     "text": [
      "Run for C: 0.0001\n",
      "Accuracy: 0.7895\n",
      "Accuracy: 0.6316\n",
      "Accuracy: 0.6842\n",
      "Accuracy: 0.7895\n",
      "Accuracy: 0.7368\n",
      "Accuracy: 0.5789\n",
      "Accuracy: 0.6316\n",
      "Accuracy: 0.5789\n",
      "Accuracy: 0.6667\n",
      "Accuracy: 0.5556\n",
      "Average accuracy over splits: 0.6643 for C: 0.0001\n",
      "<------------------------------------------------------------>\n",
      "Run for C: 0.001\n",
      "Accuracy: 0.7895\n",
      "Accuracy: 0.6316\n",
      "Accuracy: 0.6842\n",
      "Accuracy: 0.7895\n",
      "Accuracy: 0.7368\n",
      "Accuracy: 0.5789\n",
      "Accuracy: 0.6316\n",
      "Accuracy: 0.5789\n",
      "Accuracy: 0.6667\n",
      "Accuracy: 0.5556\n",
      "Average accuracy over splits: 0.6643 for C: 0.001\n",
      "<------------------------------------------------------------>\n",
      "Run for C: 0.01\n",
      "Accuracy: 0.7895\n",
      "Accuracy: 0.6316\n",
      "Accuracy: 0.6842\n",
      "Accuracy: 0.7895\n",
      "Accuracy: 0.7368\n",
      "Accuracy: 0.5789\n",
      "Accuracy: 0.6316\n",
      "Accuracy: 0.5789\n",
      "Accuracy: 0.6667\n",
      "Accuracy: 0.5556\n",
      "Average accuracy over splits: 0.6643 for C: 0.01\n",
      "<------------------------------------------------------------>\n",
      "Run for C: 0.1\n",
      "Accuracy: 0.7895\n",
      "Accuracy: 0.6316\n",
      "Accuracy: 0.6842\n",
      "Accuracy: 0.7895\n",
      "Accuracy: 0.7368\n",
      "Accuracy: 0.5789\n",
      "Accuracy: 0.6316\n",
      "Accuracy: 0.5789\n",
      "Accuracy: 0.6667\n",
      "Accuracy: 0.5556\n",
      "Average accuracy over splits: 0.6643 for C: 0.1\n",
      "<------------------------------------------------------------>\n",
      "Run for C: 1\n",
      "Accuracy: 0.7895\n",
      "Accuracy: 0.6842\n",
      "Accuracy: 0.7368\n",
      "Accuracy: 0.8421\n",
      "Accuracy: 0.7895\n",
      "Accuracy: 0.6316\n",
      "Accuracy: 0.6316\n",
      "Accuracy: 0.6316\n",
      "Accuracy: 0.6667\n",
      "Accuracy: 0.5556\n",
      "Average accuracy over splits: 0.6959 for C: 1\n",
      "<------------------------------------------------------------>\n",
      "Run for C: 10\n",
      "Accuracy: 0.8947\n",
      "Accuracy: 0.6842\n",
      "Accuracy: 0.6842\n",
      "Accuracy: 0.7895\n",
      "Accuracy: 0.7895\n",
      "Accuracy: 0.7895\n",
      "Accuracy: 0.6842\n",
      "Accuracy: 0.6842\n",
      "Accuracy: 0.7222\n",
      "Accuracy: 0.6111\n",
      "Average accuracy over splits: 0.7333 for C: 10\n",
      "<------------------------------------------------------------>\n",
      "Run for C: 100\n",
      "Accuracy: 0.8947\n",
      "Accuracy: 0.6842\n",
      "Accuracy: 0.7368\n",
      "Accuracy: 0.8421\n",
      "Accuracy: 0.8421\n",
      "Accuracy: 0.7895\n",
      "Accuracy: 0.6842\n",
      "Accuracy: 0.6842\n",
      "Accuracy: 0.7778\n",
      "Accuracy: 0.7222\n",
      "Average accuracy over splits: 0.7658 for C: 100\n",
      "<------------------------------------------------------------>\n",
      "Best accuracy: 0.7658 for C: 100\n"
     ]
    }
   ],
   "source": [
    "CV()"
   ]
  },
  {
   "cell_type": "markdown",
   "metadata": {},
   "source": [
    "Best accuracy is achieved when $C=100$ with an accuracy of $76.58\\%$."
   ]
  },
  {
   "cell_type": "markdown",
   "metadata": {},
   "source": [
    "## Problem 3\n",
    "\n",
    "Consider the Similarity Network Fusion (SNF) method with number of neighbors $k = 2$ (remember that the first\n",
    "neighbor of a node is the node itself). Note: if you provide runnable code for $(a)$ and $(b)$, you can use $(c)$ to solve $(a)$ and $(b)$.\n"
   ]
  },
  {
   "cell_type": "code",
   "execution_count": 114,
   "metadata": {},
   "outputs": [],
   "source": [
    "W1 = np.array([[1.00, 0.50, 0.30, 0.10, 0.10],\n",
    "               [0.50, 1.00, 0.40, 0.10, 0.10],\n",
    "               [0.30, 0.40, 1.00, 0.30, 0.30],\n",
    "               [0.10, 0.10, 0.30, 1.00, 0.50],\n",
    "               [0.10, 0.10, 0.30, 0.50, 1.00],\n",
    "               ])\n",
    "W2 = np.array([[1.00, 0.20, 0.50, 0.10, 0.10],\n",
    "                [0.20, 1.00, 0.30, 0.10, 0.10],\n",
    "                [0.50, 0.30, 1.00, 0.30, 0.30],\n",
    "                [0.10, 0.10, 0.30, 1.00, 0.50],\n",
    "                [0.10, 0.10, 0.30, 0.50, 1.00],\n",
    "                ])"
   ]
  },
  {
   "cell_type": "code",
   "execution_count": 115,
   "metadata": {},
   "outputs": [],
   "source": [
    "# SNF: Getting the similarity matrices (page: 22)\n",
    "def normalized_weight_matrix(W):\n",
    "    P = np.zeros(W.shape)\n",
    "    for i in range(len(W)):\n",
    "        denominator = np.sum(W[i])\n",
    "        for j in range(len(W[i])):\n",
    "            if i == j: P[i][j] = 0.5\n",
    "            else: P[i][j] = W[i][j] / (2 * (denominator - W[i][i]))\n",
    "    return P\n",
    "\n",
    "# k nearest neighbors\n",
    "def local_similarity_matrix(W, k = 2):\n",
    "    S = np.zeros(W.shape)\n",
    "    for i in range(len(W)):\n",
    "        neighbors = np.argsort(-W[i])[:k]\n",
    "        for j in neighbors: \n",
    "            denominator = np.sum(W[i][neighbors])\n",
    "            S[i][j] = W[i][j] / denominator\n",
    "    return S"
   ]
  },
  {
   "cell_type": "markdown",
   "metadata": {},
   "source": [
    "**(a)**: Provide provide $P^{(1)}$, $P^{(2)}$, $S^{(1)}$, and $S^{(2)}$."
   ]
  },
  {
   "cell_type": "code",
   "execution_count": 116,
   "metadata": {},
   "outputs": [
    {
     "name": "stdout",
     "output_type": "stream",
     "text": [
      "P^(1):\n",
      "[[0.5        0.25       0.15       0.05       0.05      ]\n",
      " [0.22727273 0.5        0.18181818 0.04545455 0.04545455]\n",
      " [0.11538462 0.15384615 0.5        0.11538462 0.11538462]\n",
      " [0.05       0.05       0.15       0.5        0.25      ]\n",
      " [0.05       0.05       0.15       0.25       0.5       ]]\n",
      "P^(2):\n",
      "[[0.5        0.11111111 0.27777778 0.05555556 0.05555556]\n",
      " [0.14285714 0.5        0.21428571 0.07142857 0.07142857]\n",
      " [0.17857143 0.10714286 0.5        0.10714286 0.10714286]\n",
      " [0.05       0.05       0.15       0.5        0.25      ]\n",
      " [0.05       0.05       0.15       0.25       0.5       ]]\n",
      "S1:\n",
      "[[0.66666667 0.33333333 0.         0.         0.        ]\n",
      " [0.33333333 0.66666667 0.         0.         0.        ]\n",
      " [0.         0.28571429 0.71428571 0.         0.        ]\n",
      " [0.         0.         0.         0.66666667 0.33333333]\n",
      " [0.         0.         0.         0.33333333 0.66666667]]\n",
      "S2:\n",
      "[[0.66666667 0.         0.33333333 0.         0.        ]\n",
      " [0.         0.76923077 0.23076923 0.         0.        ]\n",
      " [0.33333333 0.         0.66666667 0.         0.        ]\n",
      " [0.         0.         0.         0.66666667 0.33333333]\n",
      " [0.         0.         0.         0.33333333 0.66666667]]\n"
     ]
    }
   ],
   "source": [
    "P1_0 = normalized_weight_matrix(W1)\n",
    "P2_0 = normalized_weight_matrix(W2)\n",
    "S1 = local_similarity_matrix(W1)\n",
    "S2 = local_similarity_matrix(W2)\n",
    "print(\"P^(1):\\n\", P1_0, \"\\nP^(2):\\n\", P2_0, \"\\nS1:\\n\", S1, \"\\nS2:\\n\", S2, sep=\"\")"
   ]
  },
  {
   "cell_type": "markdown",
   "metadata": {},
   "source": [
    "$P^{(1)}_{t+1} = S^{(1)} \\times P^{(2)}_t \\times (S^{(1)})^T $ \n",
    "\n",
    "$P^{(2)}_{t+1} = S^{(2)} \\times P^{(1)}_t \\times (S^{(2)})^T $"
   ]
  },
  {
   "cell_type": "markdown",
   "metadata": {},
   "source": [
    "**(b)**: Perform two steps of the similarity network fusion method (i.e., compute $P^{(1)}_1$, $P^{(2)}_1$, $P^{(1)}_2$, and $P^{(2)}_2$ as well as the corresponding $P^{(c)}_s$)"
   ]
  },
  {
   "cell_type": "code",
   "execution_count": 117,
   "metadata": {},
   "outputs": [
    {
     "name": "stdout",
     "output_type": "stream",
     "text": [
      "P^(1)_0:\n",
      "[[0.5        0.25       0.15       0.05       0.05      ]\n",
      " [0.22727273 0.5        0.18181818 0.04545455 0.04545455]\n",
      " [0.11538462 0.15384615 0.5        0.11538462 0.11538462]\n",
      " [0.05       0.05       0.15       0.5        0.25      ]\n",
      " [0.05       0.05       0.15       0.25       0.5       ]]\n",
      "P(2)_0:\n",
      "[[0.5        0.11111111 0.27777778 0.05555556 0.05555556]\n",
      " [0.14285714 0.5        0.21428571 0.07142857 0.07142857]\n",
      " [0.17857143 0.10714286 0.5        0.10714286 0.10714286]\n",
      " [0.05       0.05       0.15       0.5        0.25      ]\n",
      " [0.05       0.05       0.15       0.25       0.5       ]]\n",
      "P_c:\n",
      "[[0.5        0.18055556 0.21388889 0.05277778 0.05277778]\n",
      " [0.18506494 0.5        0.19805195 0.05844156 0.05844156]\n",
      " [0.14697802 0.13049451 0.5        0.11126374 0.11126374]\n",
      " [0.05       0.05       0.15       0.5        0.25      ]\n",
      " [0.05       0.05       0.15       0.25       0.5       ]]\n",
      "<------------------------------------------------------------>\n",
      "First iteration:\n",
      "P^(1)_1:\n",
      "[[0.33421517 0.28747795 0.25207861 0.06084656 0.06084656]\n",
      " [0.29805996 0.33421517 0.27399849 0.06613757 0.06613757]\n",
      " [0.18537415 0.20238095 0.36151603 0.09693878 0.09693878]\n",
      " [0.05       0.05       0.12142857 0.38888889 0.36111111]\n",
      " [0.05       0.05       0.12142857 0.36111111 0.38888889]]\n",
      "P^(2)_1:\n",
      "[[0.33675214 0.22919132 0.3017094  0.07179487 0.07179487]\n",
      " [0.21938318 0.38207059 0.23731397 0.06159225 0.06159225]\n",
      " [0.29017094 0.23145957 0.33675214 0.09358974 0.09358974]\n",
      " [0.08333333 0.07307692 0.11666667 0.38888889 0.36111111]\n",
      " [0.08333333 0.07307692 0.11666667 0.36111111 0.38888889]]\n",
      "P_c:\n",
      "[[0.33548365 0.25833464 0.27689401 0.06632072 0.06632072]\n",
      " [0.25872157 0.35814288 0.25565623 0.06386491 0.06386491]\n",
      " [0.23777254 0.21692026 0.34913409 0.09526426 0.09526426]\n",
      " [0.06666667 0.06153846 0.11904762 0.38888889 0.36111111]\n",
      " [0.06666667 0.06153846 0.11904762 0.36111111 0.38888889]]\n",
      "Second iteration:\n",
      "P^(1)_2:\n",
      "[[0.29180313 0.2859771  0.28021763 0.068394   0.068394  ]\n",
      " [0.28270772 0.30690928 0.27944532 0.06499313 0.06499313]\n",
      " [0.27146101 0.27297615 0.29866982 0.0844476  0.0844476 ]\n",
      " [0.07991453 0.07649573 0.10421245 0.37654321 0.37345679]\n",
      " [0.07991453 0.07649573 0.10421245 0.37345679 0.37654321]]\n",
      "P^(2)_2:\n",
      "[[0.28592025 0.26590739 0.287239   0.0728773  0.0728773 ]\n",
      " [0.27943531 0.30157719 0.28681508 0.07324554 0.07324554]\n",
      " [0.26500418 0.25250591 0.29502054 0.08490804 0.08490804]\n",
      " [0.07380952 0.06648352 0.09761905 0.37654321 0.37345679]\n",
      " [0.07380952 0.06648352 0.09761905 0.37345679 0.37654321]]\n",
      "P_c:\n",
      "[[0.28886169 0.27594225 0.28372832 0.07063565 0.07063565]\n",
      " [0.28107152 0.30424323 0.2831302  0.06911933 0.06911933]\n",
      " [0.26823259 0.26274103 0.29684518 0.08467782 0.08467782]\n",
      " [0.07686203 0.07148962 0.10091575 0.37654321 0.37345679]\n",
      " [0.07686203 0.07148962 0.10091575 0.37345679 0.37654321]]\n"
     ]
    }
   ],
   "source": [
    "def update_normalized_weight_matrix(P, S):\n",
    "    return S @ P @ S.T\n",
    "\n",
    "P1_1 = update_normalized_weight_matrix(P2_0, S1)\n",
    "P2_1 = update_normalized_weight_matrix(P1_0, S2)\n",
    "P1_2 = update_normalized_weight_matrix(P2_1, S1)\n",
    "P2_2 = update_normalized_weight_matrix(P1_1, S2)\n",
    "Pc_0 = (P1_0 + P2_0) / 2\n",
    "Pc_1 = (P1_1 + P2_1) / 2\n",
    "Pc_2 = (P1_2 + P2_2) / 2\n",
    "\n",
    "\n",
    "print(\"P^(1)_0:\\n\", P1_0, \"\\nP(2)_0:\\n\", P2_0,\"\\nP_c:\\n\", Pc_0, sep=\"\")\n",
    "print(\"<\", \"-\" * 60, \">\", sep=\"\")\n",
    "print(\"First iteration:\")\n",
    "print(\"P^(1)_1:\\n\", P1_1, \"\\nP^(2)_1:\\n\", P2_1, \"\\nP_c:\\n\", Pc_1, sep=\"\")\n",
    "print(\"Second iteration:\")\n",
    "print(\"P^(1)_2:\\n\", P1_2, \"\\nP^(2)_2:\\n\", P2_2, \"\\nP_c:\\n\", Pc_2, sep=\"\")"
   ]
  },
  {
   "cell_type": "markdown",
   "metadata": {},
   "source": [
    "**(c)**: Implement the SNF starting from the similarity matrices $W^{(i)}$ in Python with the convergence criterion $\\epsilon$ as described in the supplement of the paper (Uni Tuebingen VPN necessary to access the full paper, supplement is freely available) and check whether the graph structure of the $P^{(c)}_t$ changes for $t > 2$ for the above described data.\n"
   ]
  },
  {
   "cell_type": "markdown",
   "metadata": {},
   "source": [
    "From the paper: \"SNF is proved to converge, and empirically it converges fast. We keep track of the relative change\n",
    "in consecutive rounds $E_t = \\frac{\\left \\Vert  W_{t+1}−W_t\\right \\Vert}{\\left \\Vert W_t\\right \\Vert} $. One simple stopping criteria is that we set a threshold $\\epsilon = 10^{−6}$ and if the relative change is lower than the threshold, we stop the iteration\" [1]\n",
    "\n",
    "\n",
    "[1] Wang, B., Mezlini, A., Demir, F. et al. Similarity network fusion for aggregating data types on a genomic scale. Nat Methods 11, 333–337 (2014). https://doi.org/10.1038/nmeth.2810"
   ]
  },
  {
   "cell_type": "code",
   "execution_count": 118,
   "metadata": {},
   "outputs": [],
   "source": [
    "def SNF(W1, W2, epsilon = 1e-6):\n",
    "    P1 = normalized_weight_matrix(W1)\n",
    "    P2 = normalized_weight_matrix(W2)\n",
    "    S1 = local_similarity_matrix(W1)\n",
    "    S2 = local_similarity_matrix(W2)\n",
    "    P1_prev = P1\n",
    "    P2_prev = P2\n",
    "    Pc_prev = (P1 + P2) / 2\n",
    "    itr = 0\n",
    "    Pcs = [Pc_prev]\n",
    "    print(\"Iteration {}:\".format(itr))\n",
    "    print(\"P^(1)_{}:\\n\".format(itr), P1_prev, \"\\nP^(2)_{}:\\n\".format(itr), P2_prev, \"\\nP_c:\\n\", Pc_prev, sep=\"\")\n",
    "    while True:\n",
    "        itr += 1\n",
    "        P1 = update_normalized_weight_matrix(P2_prev, S1)\n",
    "        P2 = update_normalized_weight_matrix(P1_prev, S2)\n",
    "        Pc = (P1 + P2) / 2\n",
    "        print(\"Iteration {}:\".format(itr))\n",
    "        print(\"P^(1)_{}:\\n\".format(itr), P1, \"\\nP^(2)_{}:\\n\".format(itr), P2, \"\\nP_c:\\n\", Pc, sep=\"\")\n",
    "        Et = np.linalg.norm(Pc - Pc_prev) / np.linalg.norm(Pc_prev)\n",
    "        print(\"Relative change in P_c: {:.10f}\".format(Et))\n",
    "        Pcs.append(Pc)\n",
    "        if Et < epsilon:\n",
    "            break\n",
    "        P1_prev = P1\n",
    "        P2_prev = P2\n",
    "        Pc_prev = Pc\n",
    "    return Pcs"
   ]
  },
  {
   "cell_type": "code",
   "execution_count": 119,
   "metadata": {},
   "outputs": [
    {
     "name": "stdout",
     "output_type": "stream",
     "text": [
      "Iteration 0:\n",
      "P^(1)_0:\n",
      "[[0.5        0.25       0.15       0.05       0.05      ]\n",
      " [0.22727273 0.5        0.18181818 0.04545455 0.04545455]\n",
      " [0.11538462 0.15384615 0.5        0.11538462 0.11538462]\n",
      " [0.05       0.05       0.15       0.5        0.25      ]\n",
      " [0.05       0.05       0.15       0.25       0.5       ]]\n",
      "P^(2)_0:\n",
      "[[0.5        0.11111111 0.27777778 0.05555556 0.05555556]\n",
      " [0.14285714 0.5        0.21428571 0.07142857 0.07142857]\n",
      " [0.17857143 0.10714286 0.5        0.10714286 0.10714286]\n",
      " [0.05       0.05       0.15       0.5        0.25      ]\n",
      " [0.05       0.05       0.15       0.25       0.5       ]]\n",
      "P_c:\n",
      "[[0.5        0.18055556 0.21388889 0.05277778 0.05277778]\n",
      " [0.18506494 0.5        0.19805195 0.05844156 0.05844156]\n",
      " [0.14697802 0.13049451 0.5        0.11126374 0.11126374]\n",
      " [0.05       0.05       0.15       0.5        0.25      ]\n",
      " [0.05       0.05       0.15       0.25       0.5       ]]\n",
      "Iteration 1:\n",
      "P^(1)_1:\n",
      "[[0.33421517 0.28747795 0.25207861 0.06084656 0.06084656]\n",
      " [0.29805996 0.33421517 0.27399849 0.06613757 0.06613757]\n",
      " [0.18537415 0.20238095 0.36151603 0.09693878 0.09693878]\n",
      " [0.05       0.05       0.12142857 0.38888889 0.36111111]\n",
      " [0.05       0.05       0.12142857 0.36111111 0.38888889]]\n",
      "P^(2)_1:\n",
      "[[0.33675214 0.22919132 0.3017094  0.07179487 0.07179487]\n",
      " [0.21938318 0.38207059 0.23731397 0.06159225 0.06159225]\n",
      " [0.29017094 0.23145957 0.33675214 0.09358974 0.09358974]\n",
      " [0.08333333 0.07307692 0.11666667 0.38888889 0.36111111]\n",
      " [0.08333333 0.07307692 0.11666667 0.36111111 0.38888889]]\n",
      "P_c:\n",
      "[[0.33548365 0.25833464 0.27689401 0.06632072 0.06632072]\n",
      " [0.25872157 0.35814288 0.25565623 0.06386491 0.06386491]\n",
      " [0.23777254 0.21692026 0.34913409 0.09526426 0.09526426]\n",
      " [0.06666667 0.06153846 0.11904762 0.38888889 0.36111111]\n",
      " [0.06666667 0.06153846 0.11904762 0.36111111 0.38888889]]\n",
      "Relative change in P_c: 0.3082307692\n",
      "Iteration 2:\n",
      "P^(1)_2:\n",
      "[[0.29180313 0.2859771  0.28021763 0.068394   0.068394  ]\n",
      " [0.28270772 0.30690928 0.27944532 0.06499313 0.06499313]\n",
      " [0.27146101 0.27297615 0.29866982 0.0844476  0.0844476 ]\n",
      " [0.07991453 0.07649573 0.10421245 0.37654321 0.37345679]\n",
      " [0.07991453 0.07649573 0.10421245 0.37345679 0.37654321]]\n",
      "P^(2)_2:\n",
      "[[0.28592025 0.26590739 0.287239   0.0728773  0.0728773 ]\n",
      " [0.27943531 0.30157719 0.28681508 0.07324554 0.07324554]\n",
      " [0.26500418 0.25250591 0.29502054 0.08490804 0.08490804]\n",
      " [0.07380952 0.06648352 0.09761905 0.37654321 0.37345679]\n",
      " [0.07380952 0.06648352 0.09761905 0.37345679 0.37654321]]\n",
      "P_c:\n",
      "[[0.28886169 0.27594225 0.28372832 0.07063565 0.07063565]\n",
      " [0.28107152 0.30424323 0.2831302  0.06911933 0.06911933]\n",
      " [0.26823259 0.26274103 0.29684518 0.08467782 0.08467782]\n",
      " [0.07686203 0.07148962 0.10091575 0.37654321 0.37345679]\n",
      " [0.07686203 0.07148962 0.10091575 0.37345679 0.37654321]]\n",
      "Relative change in P_c: 0.1021046125\n",
      "Iteration 3:\n",
      "P^(1)_3:\n",
      "[[0.28177151 0.27978442 0.28444044 0.07300005 0.07300005]\n",
      " [0.28429372 0.28699049 0.28773663 0.07312279 0.07312279]\n",
      " [0.26826033 0.2673933  0.28520474 0.08157589 0.08157589]\n",
      " [0.07136752 0.06892552 0.08872318 0.37517147 0.37482853]\n",
      " [0.07136752 0.06892552 0.08872318 0.37482853 0.37517147]]\n",
      "P^(2)_3:\n",
      "[[0.28547107 0.28273382 0.28591972 0.0737452  0.0737452 ]\n",
      " [0.2813688  0.2955716  0.28262527 0.06948262 0.06948262]\n",
      " [0.28300084 0.28081964 0.28775997 0.0790964  0.0790964 ]\n",
      " [0.08801384 0.08289189 0.09611315 0.37517147 0.37482853]\n",
      " [0.08801384 0.08289189 0.09611315 0.37482853 0.37517147]]\n",
      "P_c:\n",
      "[[0.28362129 0.28125912 0.28518008 0.07337262 0.07337262]\n",
      " [0.28283126 0.29128104 0.28518095 0.07130271 0.07130271]\n",
      " [0.27563059 0.27410647 0.28648235 0.08033615 0.08033615]\n",
      " [0.07969068 0.07590871 0.09241816 0.37517147 0.37482853]\n",
      " [0.07969068 0.07590871 0.09241816 0.37482853 0.37517147]]\n",
      "Relative change in P_c: 0.0241600798\n",
      "Iteration 4:\n",
      "P^(1)_4:\n",
      "[[0.28507346 0.28604327 0.28544771 0.07232434 0.07232434]\n",
      " [0.28558826 0.2884403  0.28588597 0.07090348 0.07090348]\n",
      " [0.28336786 0.28420117 0.28593336 0.07634961 0.07634961]\n",
      " [0.08630652 0.08459921 0.09233565 0.37501905 0.37498095]\n",
      " [0.08630652 0.08459921 0.09233565 0.37498095 0.37501905]]\n",
      "P^(2)_4:\n",
      "[[0.27974359 0.27774047 0.2822194  0.07585866 0.07585866]\n",
      " [0.28277992 0.28354905 0.28496614 0.07507351 0.07507351]\n",
      " [0.27682603 0.27462205 0.280888   0.07871728 0.07871728]\n",
      " [0.07715274 0.07349421 0.08293796 0.37501905 0.37498095]\n",
      " [0.07715274 0.07349421 0.08293796 0.37498095 0.37501905]]\n",
      "P_c:\n",
      "[[0.28240852 0.28189187 0.28383356 0.0740915  0.0740915 ]\n",
      " [0.28418409 0.28599468 0.28542605 0.07298849 0.07298849]\n",
      " [0.28009694 0.27941161 0.28341068 0.07753344 0.07753344]\n",
      " [0.08172963 0.07904671 0.0876368  0.37501905 0.37498095]\n",
      " [0.08172963 0.07904671 0.0876368  0.37498095 0.37501905]]\n",
      "Relative change in P_c: 0.0117446491\n",
      "Iteration 5:\n",
      "P^(1)_5:\n",
      "[[0.28039602 0.28003634 0.28214689 0.07559694 0.07559694]\n",
      " [0.28171616 0.28166451 0.28335407 0.07533523 0.07533523]\n",
      " [0.27807564 0.27762413 0.28065874 0.0776762  0.0776762 ]\n",
      " [0.07593323 0.07471372 0.08023975 0.37500212 0.37499788]\n",
      " [0.07593323 0.07471372 0.08023975 0.37499788 0.37500212]]\n",
      "P^(2)_5:\n",
      "[[0.28487315 0.28547086 0.28524137 0.0736661  0.0736661 ]\n",
      " [0.28534954 0.28710085 0.28562322 0.07216028 0.07216028]\n",
      " [0.28454808 0.28503588 0.28515978 0.07500785 0.07500785]\n",
      " [0.08831623 0.08638454 0.09032594 0.37500212 0.37499788]\n",
      " [0.08831623 0.08638454 0.09032594 0.37499788 0.37500212]]\n",
      "P_c:\n",
      "[[0.28263458 0.2827536  0.28369413 0.07463152 0.07463152]\n",
      " [0.28353285 0.28438268 0.28448865 0.07374775 0.07374775]\n",
      " [0.28131186 0.28133    0.28290926 0.07634203 0.07634203]\n",
      " [0.08212473 0.08054913 0.08528284 0.37500212 0.37499788]\n",
      " [0.08212473 0.08054913 0.08528284 0.37499788 0.37500212]]\n",
      "Relative change in P_c: 0.0047474511\n",
      "Iteration 6:\n",
      "P^(1)_6:\n",
      "[[0.28535936 0.28568677 0.28555309 0.07316416 0.07316416]\n",
      " [0.28564634 0.28610193 0.28579925 0.07266222 0.07266222]\n",
      " [0.28506001 0.28534294 0.28538753 0.07419426 0.07419426]\n",
      " [0.08767233 0.08702844 0.08919982 0.37500024 0.37499976]\n",
      " [0.08767233 0.08702844 0.08919982 0.37499976 0.37500024]]\n",
      "P^(2)_6:\n",
      "[[0.28029865 0.2797904  0.28097475 0.07629003 0.07629003]\n",
      " [0.28149472 0.28119364 0.28211339 0.07587545 0.07587545]\n",
      " [0.27961766 0.27905741 0.28038622 0.07698312 0.07698312]\n",
      " [0.07736874 0.07598896 0.07880424 0.37500024 0.37499976]\n",
      " [0.07736874 0.07598896 0.07880424 0.37499976 0.37500024]]\n",
      "P_c:\n",
      "[[0.28282901 0.28273859 0.28326392 0.07472709 0.07472709]\n",
      " [0.28357053 0.28364779 0.28395632 0.07426883 0.07426883]\n",
      " [0.28233883 0.28220018 0.28288688 0.07558869 0.07558869]\n",
      " [0.08252054 0.0815087  0.08400203 0.37500024 0.37499976]\n",
      " [0.08252054 0.0815087  0.08400203 0.37499976 0.37500024]]\n",
      "Relative change in P_c: 0.0027125938\n",
      "Iteration 7:\n",
      "P^(1)_7:\n",
      "[[0.28055094 0.28040455 0.28104111 0.07615184 0.07615184]\n",
      " [0.28097265 0.28084927 0.28144586 0.07601364 0.07601364]\n",
      " [0.2799919  0.27982983 0.28053343 0.07666664 0.07666664]\n",
      " [0.07690881 0.07644888 0.07799987 0.37500003 0.37499997]\n",
      " [0.07690881 0.07644888 0.07799987 0.37499997 0.37500003]]\n",
      "P^(2)_7:\n",
      "[[0.28533902 0.28555503 0.28541846 0.07350752 0.07350752]\n",
      " [0.28557543 0.28587542 0.28563983 0.07301577 0.07301577]\n",
      " [0.2852541  0.28545413 0.28534841 0.07385089 0.07385089]\n",
      " [0.0881815  0.08752953 0.08869066 0.37500003 0.37499997]\n",
      " [0.0881815  0.08752953 0.08869066 0.37499997 0.37500003]]\n",
      "P_c:\n",
      "[[0.28294498 0.28297979 0.28322979 0.07482968 0.07482968]\n",
      " [0.28327404 0.28336235 0.28354285 0.0745147  0.0745147 ]\n",
      " [0.282623   0.28264198 0.28294092 0.07525877 0.07525877]\n",
      " [0.08254515 0.08198921 0.08334527 0.37500003 0.37499997]\n",
      " [0.08254515 0.08198921 0.08334527 0.37499997 0.37500003]]\n",
      "Relative change in P_c: 0.0013230060\n",
      "Iteration 8:\n",
      "P^(1)_8:\n",
      "[[0.28549916 0.28558049 0.2855407  0.07334361 0.07334361]\n",
      " [0.28558729 0.28567796 0.28562392 0.07317969 0.07317969]\n",
      " [0.2854221  0.2854983  0.28547248 0.07361229 0.07361229]\n",
      " [0.08796417 0.08774685 0.08835891 0.375      0.375     ]\n",
      " [0.08796417 0.08774685 0.08835891 0.375      0.375     ]]\n",
      "P^(2)_8:\n",
      "[[0.28053369 0.28036503 0.28070279 0.07632344 0.07632344]\n",
      " [0.28090932 0.28075739 0.28107231 0.07616433 0.07616433]\n",
      " [0.28035305 0.28017862 0.28052785 0.07649504 0.07649504]\n",
      " [0.0772725  0.0768068  0.07763619 0.375      0.375     ]\n",
      " [0.0772725  0.0768068  0.07763619 0.375      0.375     ]]\n",
      "P_c:\n",
      "[[0.28301642 0.28297276 0.28312174 0.07483352 0.07483352]\n",
      " [0.2832483  0.28321767 0.28334811 0.07467201 0.07467201]\n",
      " [0.28288758 0.28283846 0.28300017 0.07505366 0.07505366]\n",
      " [0.08261834 0.08227683 0.08299755 0.375      0.375     ]\n",
      " [0.08261834 0.08227683 0.08299755 0.375      0.375     ]]\n",
      "Relative change in P_c: 0.0007381781\n",
      "Iteration 9:\n",
      "P^(1)_9:\n",
      "[[0.28060454 0.28055018 0.28073163 0.0762704  0.0762704 ]\n",
      " [0.28073161 0.2806791  0.28085698 0.07621737 0.07621737]\n",
      " [0.28045598 0.28039998 0.28058643 0.07640055 0.07640055]\n",
      " [0.07711727 0.07696204 0.07739922 0.375      0.375     ]\n",
      " [0.07711727 0.07696204 0.07739922 0.375      0.375     ]]\n",
      "P^(2)_9:\n",
      "[[0.2854883  0.28554499 0.28550313 0.07343317 0.07343317]\n",
      " [0.28556244 0.28562553 0.28557571 0.07327952 0.07327952]\n",
      " [0.2854636  0.28551866 0.28547941 0.07352273 0.07352273]\n",
      " [0.08809575 0.08788809 0.08822733 0.375      0.375     ]\n",
      " [0.08809575 0.08788809 0.08822733 0.375      0.375     ]]\n",
      "P_c:\n",
      "[[0.28304642 0.28304758 0.28311738 0.07485178 0.07485178]\n",
      " [0.28314702 0.28315232 0.28321634 0.07474844 0.07474844]\n",
      " [0.28295979 0.28295932 0.28303292 0.07496164 0.07496164]\n",
      " [0.08260651 0.08242507 0.08281328 0.375      0.375     ]\n",
      " [0.08260651 0.08242507 0.08281328 0.375      0.375     ]]\n",
      "Relative change in P_c: 0.0003844320\n",
      "Iteration 10:\n",
      "P^(1)_10:\n",
      "[[0.28553262 0.28555223 0.28554004 0.07338195 0.07338195]\n",
      " [0.28555805 0.28557836 0.28556499 0.07333073 0.07333073]\n",
      " [0.28551096 0.28553008 0.285519   0.07345324 0.07345324]\n",
      " [0.08802653 0.08795731 0.08813041 0.375      0.375     ]\n",
      " [0.08802653 0.08795731 0.08813041 0.375      0.375     ]]\n",
      "P^(2)_10:\n",
      "[[0.28059776 0.28054237 0.2806405  0.07631379 0.07631379]\n",
      " [0.28071018 0.2806562  0.28075237 0.07625964 0.07625964]\n",
      " [0.28054861 0.28049269 0.28059172 0.07635717 0.07635717]\n",
      " [0.07721125 0.07706292 0.07730524 0.375      0.375     ]\n",
      " [0.07721125 0.07706292 0.07730524 0.375      0.375     ]]\n",
      "P_c:\n",
      "[[0.28306519 0.2830473  0.28309027 0.07484787 0.07484787]\n",
      " [0.28313411 0.28311728 0.28315868 0.07479519 0.07479519]\n",
      " [0.28302978 0.28301138 0.28305536 0.0749052  0.0749052 ]\n",
      " [0.08261889 0.08251012 0.08271782 0.375      0.375     ]\n",
      " [0.08261889 0.08251012 0.08271782 0.375      0.375     ]]\n",
      "Relative change in P_c: 0.0002060899\n",
      "Iteration 11:\n",
      "P^(1)_11:\n",
      "[[0.28061693 0.28059862 0.28064994 0.07629574 0.07629574]\n",
      " [0.28065456 0.28063641 0.28068741 0.07627769 0.07627769]\n",
      " [0.28057632 0.28055786 0.28060956 0.0763293  0.0763293 ]\n",
      " [0.07716181 0.07711237 0.077236   0.375      0.375     ]\n",
      " [0.07716181 0.07711237 0.077236   0.375      0.375     ]]\n",
      "P^(2)_11:\n",
      "[[0.28552794 0.28554212 0.28553049 0.07340571 0.07340571]\n",
      " [0.28554958 0.28556426 0.28555198 0.073359   0.073359  ]\n",
      " [0.28552079 0.28553482 0.2855234  0.07342947 0.07342947]\n",
      " [0.08806116 0.08799726 0.08809578 0.375      0.375     ]\n",
      " [0.08806116 0.08799726 0.08809578 0.375      0.375     ]]\n",
      "P_c:\n",
      "[[0.28307243 0.28307037 0.28309021 0.07485072 0.07485072]\n",
      " [0.28310207 0.28310033 0.2831197  0.07481835 0.07481835]\n",
      " [0.28304855 0.28304634 0.28306648 0.07487939 0.07487939]\n",
      " [0.08261148 0.08255481 0.08266589 0.375      0.375     ]\n",
      " [0.08261148 0.08255481 0.08266589 0.375      0.375     ]]\n",
      "Relative change in P_c: 0.0001119931\n",
      "Iteration 12:\n",
      "P^(1)_12:\n",
      "[[0.28553994 0.28554472 0.28554103 0.07339014 0.07339014]\n",
      " [0.2855472  0.28555204 0.28554826 0.07337457 0.07337457]\n",
      " [0.28553375 0.28553849 0.2855349  0.07340934 0.07340934]\n",
      " [0.08803986 0.08801856 0.08806763 0.375      0.375     ]\n",
      " [0.08803986 0.08801856 0.08806763 0.375      0.375     ]]\n",
      "P^(2)_12:\n",
      "[[0.28061442 0.28059691 0.28062545 0.07630693 0.07630693]\n",
      " [0.28064748 0.28063009 0.28065846 0.0762896  0.0762896 ]\n",
      " [0.28060091 0.28058335 0.28061196 0.07631812 0.07631812]\n",
      " [0.07718654 0.0771409  0.07721127 0.375      0.375     ]\n",
      " [0.07718654 0.0771409  0.07721127 0.375      0.375     ]]\n",
      "P_c:\n",
      "[[0.28307718 0.28307081 0.28308324 0.07484853 0.07484853]\n",
      " [0.28309734 0.28309106 0.28310336 0.07483209 0.07483209]\n",
      " [0.28306733 0.28306092 0.28307343 0.07486373 0.07486373]\n",
      " [0.0826132  0.08257973 0.08263945 0.375      0.375     ]\n",
      " [0.0826132  0.08257973 0.08263945 0.375      0.375     ]]\n",
      "Relative change in P_c: 0.0000580882\n",
      "Iteration 13:\n",
      "P^(1)_13:\n",
      "[[0.28061962 0.28061379 0.28062831 0.07630115 0.07630115]\n",
      " [0.28063065 0.28062484 0.28063934 0.07629538 0.07629538]\n",
      " [0.28060838 0.28060254 0.28061709 0.07630997 0.07630997]\n",
      " [0.07717133 0.07715611 0.07719117 0.375      0.375     ]\n",
      " [0.07717133 0.07715611 0.07719117 0.375      0.375     ]]\n",
      "P^(2)_13:\n",
      "[[0.28553825 0.2855418  0.28553862 0.07339654 0.07339654]\n",
      " [0.28554446 0.28554805 0.28554482 0.0733826  0.0733826 ]\n",
      " [0.28553619 0.28553973 0.28553657 0.07340294 0.07340294]\n",
      " [0.08804912 0.08802988 0.08805837 0.375      0.375     ]\n",
      " [0.08804912 0.08802988 0.08805837 0.375      0.375     ]]\n",
      "P_c:\n",
      "[[0.28307893 0.28307779 0.28308347 0.07484885 0.07484885]\n",
      " [0.28308755 0.28308645 0.28309208 0.07483899 0.07483899]\n",
      " [0.28307228 0.28307114 0.28307683 0.07485645 0.07485645]\n",
      " [0.08261022 0.082593   0.08262477 0.375      0.375     ]\n",
      " [0.08261022 0.082593   0.08262477 0.375      0.375     ]]\n",
      "Relative change in P_c: 0.0000325501\n",
      "Iteration 14:\n",
      "P^(1)_14:\n",
      "[[0.28554151 0.28554269 0.2855416  0.07339189 0.07339189]\n",
      " [0.28554358 0.28554477 0.28554367 0.07338724 0.07338724]\n",
      " [0.28553974 0.28554092 0.28553983 0.07339713 0.07339713]\n",
      " [0.0880427  0.08803629 0.08805023 0.375      0.375     ]\n",
      " [0.0880427  0.08803629 0.08805023 0.375      0.375     ]]\n",
      "P^(2)_14:\n",
      "[[0.28061877 0.28061339 0.28062167 0.07630409 0.07630409]\n",
      " [0.28062841 0.28062304 0.28063131 0.07629874 0.07629874]\n",
      " [0.28061503 0.28060965 0.28061793 0.07630703 0.07630703]\n",
      " [0.07717794 0.0771642  0.07718455 0.375      0.375     ]\n",
      " [0.07717794 0.0771642  0.07718455 0.375      0.375     ]]\n",
      "P_c:\n",
      "[[0.28308014 0.28307804 0.28308164 0.07484799 0.07484799]\n",
      " [0.28308599 0.28308391 0.28308749 0.07484299 0.07484299]\n",
      " [0.28307738 0.28307529 0.28307888 0.07485208 0.07485208]\n",
      " [0.08261032 0.08260025 0.08261739 0.375      0.375     ]\n",
      " [0.08261032 0.08260025 0.08261739 0.375      0.375     ]]\n",
      "Relative change in P_c: 0.0000164619\n",
      "Iteration 15:\n",
      "P^(1)_15:\n",
      "[[0.28062019 0.2806184  0.28062252 0.07630231 0.07630231]\n",
      " [0.28062341 0.28062162 0.28062573 0.07630053 0.07630053]\n",
      " [0.28061706 0.28061527 0.28061939 0.07630466 0.07630466]\n",
      " [0.07717336 0.07716878 0.07717874 0.375      0.375     ]\n",
      " [0.07717336 0.07716878 0.07717874 0.375      0.375     ]]\n",
      "P^(2)_15:\n",
      "[[0.28554095 0.28554185 0.28554098 0.07339364 0.07339364]\n",
      " [0.28554272 0.28554363 0.28554275 0.07338953 0.07338953]\n",
      " [0.28554036 0.28554126 0.28554039 0.07339538 0.07339538]\n",
      " [0.08804521 0.08803951 0.08804772 0.375      0.375     ]\n",
      " [0.08804521 0.08803951 0.08804772 0.375      0.375     ]]\n",
      "P_c:\n",
      "[[0.28308057 0.28308013 0.28308175 0.07484797 0.07484797]\n",
      " [0.28308307 0.28308262 0.28308424 0.07484503 0.07484503]\n",
      " [0.28307871 0.28307826 0.28307989 0.07485002 0.07485002]\n",
      " [0.08260929 0.08260415 0.08261323 0.375      0.375     ]\n",
      " [0.08260929 0.08260415 0.08261323 0.375      0.375     ]]\n",
      "Relative change in P_c: 0.0000094315\n",
      "Iteration 16:\n",
      "P^(1)_16:\n",
      "[[0.28554184 0.28554214 0.28554182 0.07339227 0.07339227]\n",
      " [0.28554243 0.28554274 0.28554241 0.0733909  0.0733909 ]\n",
      " [0.28554134 0.28554164 0.28554132 0.07339371 0.07339371]\n",
      " [0.08804331 0.08804141 0.08804538 0.375      0.375     ]\n",
      " [0.08804331 0.08804141 0.08804538 0.375      0.375     ]]\n",
      "P^(2)_16:\n",
      "[[0.28061992 0.28061831 0.2806207  0.07630309 0.07630309]\n",
      " [0.28062272 0.2806211  0.28062349 0.07630148 0.07630148]\n",
      " [0.28061888 0.28061726 0.28061965 0.07630388 0.07630388]\n",
      " [0.07717515 0.07717108 0.07717695 0.375      0.375     ]\n",
      " [0.07717515 0.07717108 0.07717695 0.375      0.375     ]]\n",
      "P_c:\n",
      "[[0.28308088 0.28308023 0.28308126 0.07484768 0.07484768]\n",
      " [0.28308258 0.28308192 0.28308295 0.07484619 0.07484619]\n",
      " [0.28308011 0.28307945 0.28308049 0.07484879 0.07484879]\n",
      " [0.08260923 0.08260625 0.08261116 0.375      0.375     ]\n",
      " [0.08260923 0.08260625 0.08261116 0.375      0.375     ]]\n",
      "Relative change in P_c: 0.0000046804\n",
      "Iteration 17:\n",
      "P^(1)_17:\n",
      "[[0.28062032 0.28061978 0.28062095 0.07630256 0.07630256]\n",
      " [0.28062125 0.28062071 0.28062188 0.07630202 0.07630202]\n",
      " [0.28061944 0.2806189  0.28062007 0.07630319 0.07630319]\n",
      " [0.07717379 0.07717244 0.07717527 0.375      0.375     ]\n",
      " [0.07717379 0.07717244 0.07717527 0.375      0.375     ]]\n",
      "P^(2)_17:\n",
      "[[0.28554167 0.2855419  0.28554166 0.07339275 0.07339275]\n",
      " [0.28554217 0.28554241 0.28554217 0.07339155 0.07339155]\n",
      " [0.2855415  0.28554173 0.28554149 0.07339323 0.07339323]\n",
      " [0.088044   0.08804233 0.08804469 0.375      0.375     ]\n",
      " [0.088044   0.08804233 0.08804469 0.375      0.375     ]]\n",
      "P_c:\n",
      "[[0.28308099 0.28308084 0.2830813  0.07484765 0.07484765]\n",
      " [0.28308171 0.28308156 0.28308202 0.07484678 0.07484678]\n",
      " [0.28308047 0.28308031 0.28308078 0.07484821 0.07484821]\n",
      " [0.0826089  0.08260738 0.08260998 0.375      0.375     ]\n",
      " [0.0826089  0.08260738 0.08260998 0.375      0.375     ]]\n",
      "Relative change in P_c: 0.0000027249\n",
      "Iteration 18:\n",
      "P^(1)_18:\n",
      "[[0.28554191 0.28554199 0.2855419  0.07339235 0.07339235]\n",
      " [0.28554208 0.28554216 0.28554207 0.07339195 0.07339195]\n",
      " [0.28554177 0.28554185 0.28554175 0.07339275 0.07339275]\n",
      " [0.08804344 0.08804288 0.08804401 0.375      0.375     ]\n",
      " [0.08804344 0.08804288 0.08804401 0.375      0.375     ]]\n",
      "P^(2)_18:\n",
      "[[0.28062023 0.28061975 0.28062044 0.07630277 0.07630277]\n",
      " [0.28062104 0.28062056 0.28062125 0.07630229 0.07630229]\n",
      " [0.28061994 0.28061946 0.28062015 0.07630298 0.07630298]\n",
      " [0.07717429 0.07717309 0.07717478 0.375      0.375     ]\n",
      " [0.07717429 0.07717309 0.07717478 0.375      0.375     ]]\n",
      "P_c:\n",
      "[[0.28308107 0.28308087 0.28308117 0.07484756 0.07484756]\n",
      " [0.28308156 0.28308136 0.28308166 0.07484712 0.07484712]\n",
      " [0.28308085 0.28308065 0.28308095 0.07484786 0.07484786]\n",
      " [0.08260886 0.08260799 0.0826094  0.375      0.375     ]\n",
      " [0.08260886 0.08260799 0.0826094  0.375      0.375     ]]\n",
      "Relative change in P_c: 0.0000013333\n",
      "Iteration 19:\n",
      "P^(1)_19:\n",
      "[[0.28062034 0.28062018 0.28062052 0.07630261 0.07630261]\n",
      " [0.28062061 0.28062045 0.28062078 0.07630245 0.07630245]\n",
      " [0.28062009 0.28061993 0.28062027 0.07630278 0.07630278]\n",
      " [0.07717389 0.07717349 0.0771743  0.375      0.375     ]\n",
      " [0.07717389 0.07717349 0.0771743  0.375      0.375     ]]\n",
      "P^(2)_19:\n",
      "[[0.28554186 0.28554192 0.28554185 0.07339248 0.07339248]\n",
      " [0.28554201 0.28554207 0.285542   0.07339213 0.07339213]\n",
      " [0.28554181 0.28554187 0.28554181 0.07339261 0.07339261]\n",
      " [0.08804363 0.08804315 0.08804382 0.375      0.375     ]\n",
      " [0.08804363 0.08804315 0.08804382 0.375      0.375     ]]\n",
      "P_c:\n",
      "[[0.2830811  0.28308105 0.28308118 0.07484754 0.07484754]\n",
      " [0.28308131 0.28308126 0.28308139 0.07484729 0.07484729]\n",
      " [0.28308095 0.2830809  0.28308104 0.0748477  0.0748477 ]\n",
      " [0.08260876 0.08260832 0.08260906 0.375      0.375     ]\n",
      " [0.08260876 0.08260832 0.08260906 0.375      0.375     ]]\n",
      "Relative change in P_c: 0.0000007853\n"
     ]
    }
   ],
   "source": [
    "Pcs = SNF(W1, W2)"
   ]
  },
  {
   "cell_type": "markdown",
   "metadata": {},
   "source": [
    "Iteration converges after 19 steps. In order to see the change in $Pc_t$ for $t>2$, we can plot the matrices."
   ]
  },
  {
   "cell_type": "code",
   "execution_count": 120,
   "metadata": {},
   "outputs": [
    {
     "name": "stdout",
     "output_type": "stream",
     "text": [
      "P_c_0:\n"
     ]
    },
    {
     "data": {
      "image/png": "[encoded data removed]",
      "text/plain": [
       "<Figure size 640x480 with 2 Axes>"
      ]
     },
     "metadata": {},
     "output_type": "display_data"
    },
    {
     "name": "stdout",
     "output_type": "stream",
     "text": [
      "P_c_1:\n"
     ]
    },
    {
     "data": {
      "image/png": "[encoded data removed]",
      "text/plain": [
       "<Figure size 640x480 with 2 Axes>"
      ]
     },
     "metadata": {},
     "output_type": "display_data"
    },
    {
     "name": "stdout",
     "output_type": "stream",
     "text": [
      "P_c_2:\n"
     ]
    },
    {
     "data": {
      "image/png": "[encoded data removed]",
      "text/plain": [
       "<Figure size 640x480 with 2 Axes>"
      ]
     },
     "metadata": {},
     "output_type": "display_data"
    },
    {
     "name": "stdout",
     "output_type": "stream",
     "text": [
      "P_c_3:\n"
     ]
    },
    {
     "data": {
      "image/png": "[encoded data removed]",
      "text/plain": [
       "<Figure size 640x480 with 2 Axes>"
      ]
     },
     "metadata": {},
     "output_type": "display_data"
    },
    {
     "name": "stdout",
     "output_type": "stream",
     "text": [
      "P_c_4:\n"
     ]
    },
    {
     "data": {
      "image/png": "[encoded data removed]",
      "text/plain": [
       "<Figure size 640x480 with 2 Axes>"
      ]
     },
     "metadata": {},
     "output_type": "display_data"
    },
    {
     "name": "stdout",
     "output_type": "stream",
     "text": [
      "P_c_5:\n"
     ]
    },
    {
     "data": {
      "image/png": "[encoded data removed]",
      "text/plain": [
       "<Figure size 640x480 with 2 Axes>"
      ]
     },
     "metadata": {},
     "output_type": "display_data"
    },
    {
     "name": "stdout",
     "output_type": "stream",
     "text": [
      "P_c_6:\n"
     ]
    },
    {
     "data": {
      "image/png": "[encoded data removed]",
      "text/plain": [
       "<Figure size 640x480 with 2 Axes>"
      ]
     },
     "metadata": {},
     "output_type": "display_data"
    },
    {
     "name": "stdout",
     "output_type": "stream",
     "text": [
      "P_c_7:\n"
     ]
    },
    {
     "data": {
      "image/png": "[encoded data removed]",
      "text/plain": [
       "<Figure size 640x480 with 2 Axes>"
      ]
     },
     "metadata": {},
     "output_type": "display_data"
    },
    {
     "name": "stdout",
     "output_type": "stream",
     "text": [
      "P_c_8:\n"
     ]
    },
    {
     "data": {
      "image/png": "[encoded data removed]",
      "text/plain": [
       "<Figure size 640x480 with 2 Axes>"
      ]
     },
     "metadata": {},
     "output_type": "display_data"
    },
    {
     "name": "stdout",
     "output_type": "stream",
     "text": [
      "P_c_9:\n"
     ]
    },
    {
     "data": {
      "image/png": "[encoded data removed]",
      "text/plain": [
       "<Figure size 640x480 with 2 Axes>"
      ]
     },
     "metadata": {},
     "output_type": "display_data"
    },
    {
     "name": "stdout",
     "output_type": "stream",
     "text": [
      "P_c_10:\n"
     ]
    },
    {
     "data": {
      "image/png": "[encoded data removed]",
      "text/plain": [
       "<Figure size 640x480 with 2 Axes>"
      ]
     },
     "metadata": {},
     "output_type": "display_data"
    },
    {
     "name": "stdout",
     "output_type": "stream",
     "text": [
      "P_c_11:\n"
     ]
    },
    {
     "data": {
      "image/png": "[encoded data removed]",
      "text/plain": [
       "<Figure size 640x480 with 2 Axes>"
      ]
     },
     "metadata": {},
     "output_type": "display_data"
    },
    {
     "name": "stdout",
     "output_type": "stream",
     "text": [
      "P_c_12:\n"
     ]
    },
    {
     "data": {
      "image/png": "[encoded data removed]",
      "text/plain": [
       "<Figure size 640x480 with 2 Axes>"
      ]
     },
     "metadata": {},
     "output_type": "display_data"
    },
    {
     "name": "stdout",
     "output_type": "stream",
     "text": [
      "P_c_13:\n"
     ]
    },
    {
     "data": {
      "image/png": "[encoded data removed]",
      "text/plain": [
       "<Figure size 640x480 with 2 Axes>"
      ]
     },
     "metadata": {},
     "output_type": "display_data"
    },
    {
     "name": "stdout",
     "output_type": "stream",
     "text": [
      "P_c_14:\n"
     ]
    },
    {
     "data": {
      "image/png": "[encoded data removed]",
      "text/plain": [
       "<Figure size 640x480 with 2 Axes>"
      ]
     },
     "metadata": {},
     "output_type": "display_data"
    },
    {
     "name": "stdout",
     "output_type": "stream",
     "text": [
      "P_c_15:\n"
     ]
    },
    {
     "data": {
      "image/png": "[encoded data removed]",
      "text/plain": [
       "<Figure size 640x480 with 2 Axes>"
      ]
     },
     "metadata": {},
     "output_type": "display_data"
    },
    {
     "name": "stdout",
     "output_type": "stream",
     "text": [
      "P_c_16:\n"
     ]
    },
    {
     "data": {
      "image/png": "[encoded data removed]",
      "text/plain": [
       "<Figure size 640x480 with 2 Axes>"
      ]
     },
     "metadata": {},
     "output_type": "display_data"
    },
    {
     "name": "stdout",
     "output_type": "stream",
     "text": [
      "P_c_17:\n"
     ]
    },
    {
     "data": {
      "image/png": "[encoded data removed]",
      "text/plain": [
       "<Figure size 640x480 with 2 Axes>"
      ]
     },
     "metadata": {},
     "output_type": "display_data"
    },
    {
     "name": "stdout",
     "output_type": "stream",
     "text": [
      "P_c_18:\n"
     ]
    },
    {
     "data": {
      "image/png": "[encoded data removed]",
      "text/plain": [
       "<Figure size 640x480 with 2 Axes>"
      ]
     },
     "metadata": {},
     "output_type": "display_data"
    },
    {
     "name": "stdout",
     "output_type": "stream",
     "text": [
      "P_c_19:\n"
     ]
    },
    {
     "data": {
      "image/png": "[encoded data removed]",
      "text/plain": [
       "<Figure size 640x480 with 2 Axes>"
      ]
     },
     "metadata": {},
     "output_type": "display_data"
    }
   ],
   "source": [
    "def plot_heatmap(P):\n",
    "    ax = sns.heatmap(P, linewidth=0.5)\n",
    "    plt.show()\n",
    "\n",
    "for i in range(len(Pcs)):\n",
    "    print(\"P_c_{}:\".format(i))\n",
    "    plot_heatmap(Pcs[i])"
   ]
  },
  {
   "cell_type": "markdown",
   "metadata": {},
   "source": [
    "As can be seen from the heatmaps above, the graph structure of $P^{(c)}_t$ does not experience a remarkable change after $t>4$ and the change is almost negligible after $t>19$."
   ]
  }
 ],
 "metadata": {
  "kernelspec": {
   "display_name": "env",
   "language": "python",
   "name": "python3"
  },
  "language_info": {
   "codemirror_mode": {
    "name": "ipython",
    "version": 3
   },
   "file_extension": ".py",
   "mimetype": "text/x-python",
   "name": "python",
   "nbconvert_exporter": "python",
   "pygments_lexer": "ipython3",
   "version": "3.9.13"
  }
 },
 "nbformat": 4,
 "nbformat_minor": 2
}
