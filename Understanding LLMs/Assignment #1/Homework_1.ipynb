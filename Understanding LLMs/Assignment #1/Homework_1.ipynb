{
  "cells": [
    {
      "cell_type": "markdown",
      "metadata": {
        "id": "TmHAvExezvFD"
      },
      "source": [
        "## Homework #1 Part III\n",
        "\n",
        "Karahan Sarıtaş \\\n",
        "6661689"
      ]
    },
    {
      "cell_type": "code",
      "execution_count": 8,
      "metadata": {
        "colab": {
          "base_uri": "https://localhost:8080/"
        },
        "id": "tAI9CebI2DHq",
        "outputId": "6cc5d3ff-a1c7-4d5e-898a-714c5dbc4a15"
      },
      "outputs": [
        {
          "name": "stdout",
          "output_type": "stream",
          "text": [
            "Requirement already satisfied: datasets in c:\\users\\karab\\desktop\\understanding llms\\homeworks\\env\\lib\\site-packages (2.20.0)\n",
            "Requirement already satisfied: requests>=2.32.2 in c:\\users\\karab\\desktop\\understanding llms\\homeworks\\env\\lib\\site-packages (from datasets) (2.32.3)\n",
            "Requirement already satisfied: aiohttp in c:\\users\\karab\\desktop\\understanding llms\\homeworks\\env\\lib\\site-packages (from datasets) (3.9.5)\n",
            "Requirement already satisfied: packaging in c:\\users\\karab\\desktop\\understanding llms\\homeworks\\env\\lib\\site-packages (from datasets) (24.1)\n",
            "Requirement already satisfied: multiprocess in c:\\users\\karab\\desktop\\understanding llms\\homeworks\\env\\lib\\site-packages (from datasets) (0.70.16)\n",
            "Requirement already satisfied: pandas in c:\\users\\karab\\desktop\\understanding llms\\homeworks\\env\\lib\\site-packages (from datasets) (1.5.3)\n",
            "Requirement already satisfied: huggingface-hub>=0.21.2 in c:\\users\\karab\\desktop\\understanding llms\\homeworks\\env\\lib\\site-packages (from datasets) (0.23.4)\n",
            "Requirement already satisfied: numpy>=1.17 in c:\\users\\karab\\desktop\\understanding llms\\homeworks\\env\\lib\\site-packages (from datasets) (1.26.3)\n",
            "Requirement already satisfied: tqdm>=4.66.3 in c:\\users\\karab\\desktop\\understanding llms\\homeworks\\env\\lib\\site-packages (from datasets) (4.66.4)\n",
            "Requirement already satisfied: pyarrow-hotfix in c:\\users\\karab\\desktop\\understanding llms\\homeworks\\env\\lib\\site-packages (from datasets) (0.6)\n",
            "Requirement already satisfied: filelock in c:\\users\\karab\\desktop\\understanding llms\\homeworks\\env\\lib\\site-packages (from datasets) (3.13.1)\n",
            "Requirement already satisfied: pyyaml>=5.1 in c:\\users\\karab\\desktop\\understanding llms\\homeworks\\env\\lib\\site-packages (from datasets) (6.0.1)\n",
            "Requirement already satisfied: fsspec[http]<=2024.5.0,>=2023.1.0 in c:\\users\\karab\\desktop\\understanding llms\\homeworks\\env\\lib\\site-packages (from datasets) (2024.2.0)\n",
            "Requirement already satisfied: dill<0.3.9,>=0.3.0 in c:\\users\\karab\\desktop\\understanding llms\\homeworks\\env\\lib\\site-packages (from datasets) (0.3.8)\n",
            "Requirement already satisfied: xxhash in c:\\users\\karab\\desktop\\understanding llms\\homeworks\\env\\lib\\site-packages (from datasets) (3.4.1)\n",
            "Requirement already satisfied: pyarrow>=15.0.0 in c:\\users\\karab\\desktop\\understanding llms\\homeworks\\env\\lib\\site-packages (from datasets) (16.1.0)\n",
            "Requirement already satisfied: frozenlist>=1.1.1 in c:\\users\\karab\\desktop\\understanding llms\\homeworks\\env\\lib\\site-packages (from aiohttp->datasets) (1.4.1)\n",
            "Requirement already satisfied: async-timeout<5.0,>=4.0 in c:\\users\\karab\\desktop\\understanding llms\\homeworks\\env\\lib\\site-packages (from aiohttp->datasets) (4.0.3)\n",
            "Requirement already satisfied: yarl<2.0,>=1.0 in c:\\users\\karab\\desktop\\understanding llms\\homeworks\\env\\lib\\site-packages (from aiohttp->datasets) (1.9.4)\n",
            "Requirement already satisfied: multidict<7.0,>=4.5 in c:\\users\\karab\\desktop\\understanding llms\\homeworks\\env\\lib\\site-packages (from aiohttp->datasets) (6.0.5)\n",
            "Requirement already satisfied: aiosignal>=1.1.2 in c:\\users\\karab\\desktop\\understanding llms\\homeworks\\env\\lib\\site-packages (from aiohttp->datasets) (1.3.1)\n",
            "Requirement already satisfied: attrs>=17.3.0 in c:\\users\\karab\\desktop\\understanding llms\\homeworks\\env\\lib\\site-packages (from aiohttp->datasets) (23.2.0)\n",
            "Requirement already satisfied: typing-extensions>=3.7.4.3 in c:\\users\\karab\\desktop\\understanding llms\\homeworks\\env\\lib\\site-packages (from huggingface-hub>=0.21.2->datasets) (4.9.0)\n",
            "Requirement already satisfied: charset-normalizer<4,>=2 in c:\\users\\karab\\desktop\\understanding llms\\homeworks\\env\\lib\\site-packages (from requests>=2.32.2->datasets) (3.3.2)\n",
            "Requirement already satisfied: idna<4,>=2.5 in c:\\users\\karab\\desktop\\understanding llms\\homeworks\\env\\lib\\site-packages (from requests>=2.32.2->datasets) (3.7)\n",
            "Requirement already satisfied: certifi>=2017.4.17 in c:\\users\\karab\\desktop\\understanding llms\\homeworks\\env\\lib\\site-packages (from requests>=2.32.2->datasets) (2024.6.2)\n",
            "Requirement already satisfied: urllib3<3,>=1.21.1 in c:\\users\\karab\\desktop\\understanding llms\\homeworks\\env\\lib\\site-packages (from requests>=2.32.2->datasets) (1.26.19)\n",
            "Requirement already satisfied: colorama in c:\\users\\karab\\desktop\\understanding llms\\homeworks\\env\\lib\\site-packages (from tqdm>=4.66.3->datasets) (0.4.6)\n",
            "Requirement already satisfied: python-dateutil>=2.8.1 in c:\\users\\karab\\desktop\\understanding llms\\homeworks\\env\\lib\\site-packages (from pandas->datasets) (2.9.0.post0)\n",
            "Requirement already satisfied: pytz>=2020.1 in c:\\users\\karab\\desktop\\understanding llms\\homeworks\\env\\lib\\site-packages (from pandas->datasets) (2024.1)\n",
            "Requirement already satisfied: six>=1.5 in c:\\users\\karab\\desktop\\understanding llms\\homeworks\\env\\lib\\site-packages (from python-dateutil>=2.8.1->pandas->datasets) (1.16.0)\n"
          ]
        },
        {
          "name": "stderr",
          "output_type": "stream",
          "text": [
            "WARNING: You are using pip version 22.0.4; however, version 24.1.2 is available.\n",
            "You should consider upgrading via the 'C:\\Users\\karab\\Desktop\\Understanding LLMs\\Homeworks\\env\\Scripts\\python.exe -m pip install --upgrade pip' command.\n"
          ]
        },
        {
          "name": "stdout",
          "output_type": "stream",
          "text": [
            "Requirement already satisfied: accelerate in c:\\users\\karab\\desktop\\understanding llms\\homeworks\\env\\lib\\site-packages (0.25.0)\n",
            "Requirement already satisfied: huggingface-hub in c:\\users\\karab\\desktop\\understanding llms\\homeworks\\env\\lib\\site-packages (from accelerate) (0.23.4)\n",
            "Requirement already satisfied: numpy>=1.17 in c:\\users\\karab\\desktop\\understanding llms\\homeworks\\env\\lib\\site-packages (from accelerate) (1.26.3)\n",
            "Requirement already satisfied: packaging>=20.0 in c:\\users\\karab\\desktop\\understanding llms\\homeworks\\env\\lib\\site-packages (from accelerate) (24.1)\n",
            "Requirement already satisfied: torch>=1.10.0 in c:\\users\\karab\\desktop\\understanding llms\\homeworks\\env\\lib\\site-packages (from accelerate) (2.3.1+cu118)\n",
            "Requirement already satisfied: pyyaml in c:\\users\\karab\\desktop\\understanding llms\\homeworks\\env\\lib\\site-packages (from accelerate) (6.0.1)\n",
            "Requirement already satisfied: safetensors>=0.3.1 in c:\\users\\karab\\desktop\\understanding llms\\homeworks\\env\\lib\\site-packages (from accelerate) (0.4.3)\n",
            "Requirement already satisfied: psutil in c:\\users\\karab\\desktop\\understanding llms\\homeworks\\env\\lib\\site-packages (from accelerate) (6.0.0)\n",
            "Requirement already satisfied: typing-extensions>=4.8.0 in c:\\users\\karab\\desktop\\understanding llms\\homeworks\\env\\lib\\site-packages (from torch>=1.10.0->accelerate) (4.9.0)\n",
            "Requirement already satisfied: jinja2 in c:\\users\\karab\\desktop\\understanding llms\\homeworks\\env\\lib\\site-packages (from torch>=1.10.0->accelerate) (3.1.3)\n",
            "Requirement already satisfied: sympy in c:\\users\\karab\\desktop\\understanding llms\\homeworks\\env\\lib\\site-packages (from torch>=1.10.0->accelerate) (1.12)\n",
            "Requirement already satisfied: mkl<=2021.4.0,>=2021.1.1 in c:\\users\\karab\\desktop\\understanding llms\\homeworks\\env\\lib\\site-packages (from torch>=1.10.0->accelerate) (2021.4.0)\n",
            "Requirement already satisfied: fsspec in c:\\users\\karab\\desktop\\understanding llms\\homeworks\\env\\lib\\site-packages (from torch>=1.10.0->accelerate) (2024.2.0)\n",
            "Requirement already satisfied: filelock in c:\\users\\karab\\desktop\\understanding llms\\homeworks\\env\\lib\\site-packages (from torch>=1.10.0->accelerate) (3.13.1)\n",
            "Requirement already satisfied: networkx in c:\\users\\karab\\desktop\\understanding llms\\homeworks\\env\\lib\\site-packages (from torch>=1.10.0->accelerate) (3.2.1)\n",
            "Requirement already satisfied: requests in c:\\users\\karab\\desktop\\understanding llms\\homeworks\\env\\lib\\site-packages (from huggingface-hub->accelerate) (2.32.3)\n",
            "Requirement already satisfied: tqdm>=4.42.1 in c:\\users\\karab\\desktop\\understanding llms\\homeworks\\env\\lib\\site-packages (from huggingface-hub->accelerate) (4.66.4)\n",
            "Requirement already satisfied: intel-openmp==2021.* in c:\\users\\karab\\desktop\\understanding llms\\homeworks\\env\\lib\\site-packages (from mkl<=2021.4.0,>=2021.1.1->torch>=1.10.0->accelerate) (2021.4.0)\n",
            "Requirement already satisfied: tbb==2021.* in c:\\users\\karab\\desktop\\understanding llms\\homeworks\\env\\lib\\site-packages (from mkl<=2021.4.0,>=2021.1.1->torch>=1.10.0->accelerate) (2021.11.0)\n",
            "Requirement already satisfied: colorama in c:\\users\\karab\\desktop\\understanding llms\\homeworks\\env\\lib\\site-packages (from tqdm>=4.42.1->huggingface-hub->accelerate) (0.4.6)\n",
            "Requirement already satisfied: MarkupSafe>=2.0 in c:\\users\\karab\\desktop\\understanding llms\\homeworks\\env\\lib\\site-packages (from jinja2->torch>=1.10.0->accelerate) (2.1.5)\n",
            "Requirement already satisfied: idna<4,>=2.5 in c:\\users\\karab\\desktop\\understanding llms\\homeworks\\env\\lib\\site-packages (from requests->huggingface-hub->accelerate) (3.7)\n",
            "Requirement already satisfied: certifi>=2017.4.17 in c:\\users\\karab\\desktop\\understanding llms\\homeworks\\env\\lib\\site-packages (from requests->huggingface-hub->accelerate) (2024.6.2)\n",
            "Requirement already satisfied: urllib3<3,>=1.21.1 in c:\\users\\karab\\desktop\\understanding llms\\homeworks\\env\\lib\\site-packages (from requests->huggingface-hub->accelerate) (1.26.19)\n",
            "Requirement already satisfied: charset-normalizer<4,>=2 in c:\\users\\karab\\desktop\\understanding llms\\homeworks\\env\\lib\\site-packages (from requests->huggingface-hub->accelerate) (3.3.2)\n",
            "Requirement already satisfied: mpmath>=0.19 in c:\\users\\karab\\desktop\\understanding llms\\homeworks\\env\\lib\\site-packages (from sympy->torch>=1.10.0->accelerate) (1.3.0)\n"
          ]
        },
        {
          "name": "stderr",
          "output_type": "stream",
          "text": [
            "WARNING: You are using pip version 22.0.4; however, version 24.1.2 is available.\n",
            "You should consider upgrading via the 'C:\\Users\\karab\\Desktop\\Understanding LLMs\\Homeworks\\env\\Scripts\\python.exe -m pip install --upgrade pip' command.\n"
          ]
        }
      ],
      "source": [
        "!pip install datasets\n",
        "!pip install accelerate"
      ]
    },
    {
      "cell_type": "code",
      "execution_count": 9,
      "metadata": {
        "id": "1hbo1_Ayz6z0"
      },
      "outputs": [
        {
          "name": "stderr",
          "output_type": "stream",
          "text": [
            "c:\\Users\\karab\\Desktop\\Understanding LLMs\\Homeworks\\env\\lib\\site-packages\\tqdm\\auto.py:21: TqdmWarning: IProgress not found. Please update jupyter and ipywidgets. See https://ipywidgets.readthedocs.io/en/stable/user_install.html\n",
            "  from .autonotebook import tqdm as notebook_tqdm\n"
          ]
        }
      ],
      "source": [
        "# note: if you are on Colab, you might need to install some requirements\n",
        "# as we did in Sheet 1.1. Otherwise, don't forget to activate your local environment\n",
        "\n",
        "from datasets import load_dataset\n",
        "from transformers import AutoTokenizer, AutoModelForCausalLM, GPT2Tokenizer, GPT2LMHeadModel\n",
        "import torch\n",
        "from torch.utils.data import DataLoader\n",
        "from torch.utils.data import Dataset\n",
        "import numpy as np\n",
        "import matplotlib.pyplot as plt\n",
        "from tqdm import tqdm\n",
        "\n",
        "### Additionals (just for data exploration)\n",
        "import pprint"
      ]
    },
    {
      "cell_type": "code",
      "execution_count": 10,
      "metadata": {
        "id": "pAiPjCgp0lqx"
      },
      "outputs": [],
      "source": [
        "# download dataset from HF\n",
        "dataset = load_dataset(\"tau/commonsense_qa\")"
      ]
    },
    {
      "cell_type": "code",
      "execution_count": 11,
      "metadata": {
        "colab": {
          "base_uri": "https://localhost:8080/"
        },
        "id": "bu9Op6sX2SN9",
        "outputId": "27033cf4-9942-4852-cb40-4be76c7d82fb"
      },
      "outputs": [
        {
          "name": "stdout",
          "output_type": "stream",
          "text": [
            "dict_keys(['train', 'validation', 'test'])\n",
            "------------------------------\n",
            "Sample from training set:\n",
            "{'answerKey': 'D',\n",
            " 'choices': {'label': ['A', 'B', 'C', 'D', 'E'],\n",
            "             'text': ['radio shack',\n",
            "                      'substation',\n",
            "                      'cabinet',\n",
            "                      'television',\n",
            "                      'desk']},\n",
            " 'id': 'e8a8b3a2061aa0e6d7c6b522e9612824',\n",
            " 'question': 'What home entertainment equipment requires cable?',\n",
            " 'question_concept': 'cable'}\n",
            "------------------------------\n",
            "Sample from test set:\n",
            "{'answerKey': '',\n",
            " 'choices': {'label': ['A', 'B', 'C', 'D', 'E'],\n",
            "             'text': ['neighborhood',\n",
            "                      'town',\n",
            "                      'street',\n",
            "                      'office building',\n",
            "                      'city']},\n",
            " 'id': '0b7734f608c188350573247e3ef2a00d',\n",
            " 'question': 'After graduating the dentist set up his dental office back where '\n",
            "             'he grew up, he wanted to always live in his home what?',\n",
            " 'question_concept': 'dental office'}\n"
          ]
        }
      ],
      "source": [
        "# inspect dataset\n",
        "print(dataset.keys())\n",
        "# print a sample from the dataset\n",
        "\n",
        "example = dataset['train'][5]\n",
        "print(\"---\"*10 + \"\\n\" + \"Sample from training set:\")\n",
        "pprint.pprint(example)\n",
        "example = dataset['test'][5]\n",
        "print(\"---\"*10 + \"\\n\" + \"Sample from test set:\")\n",
        "pprint.pprint(example)"
      ]
    },
    {
      "cell_type": "code",
      "execution_count": 12,
      "metadata": {},
      "outputs": [
        {
          "data": {
            "text/plain": [
              "(9741, 1140)"
            ]
          },
          "execution_count": 12,
          "metadata": {},
          "output_type": "execute_result"
        }
      ],
      "source": [
        "len(dataset['train']), len(dataset['test'])"
      ]
    },
    {
      "cell_type": "code",
      "execution_count": 193,
      "metadata": {
        "id": "N8QM2yNC2dJQ"
      },
      "outputs": [],
      "source": [
        "# load tokenizer\n",
        "tokenizer = AutoTokenizer.from_pretrained(\"gpt2\")\n",
        "tokenizer.pad_token = tokenizer.eos_token\n",
        "# set padding side to be left because we are doing causal LM\n",
        "tokenizer.padding_side = \"left\"\n",
        "\n",
        "# pad token = A special token used to make arrays of tokens the same size for batching purpose. Will then be ignored by attention mechanisms or loss computation."
      ]
    },
    {
      "cell_type": "code",
      "execution_count": 194,
      "metadata": {
        "id": "-QQ-iKWw2fCR"
      },
      "outputs": [],
      "source": [
        "def massage_input_text(example):\n",
        "    \"\"\"\n",
        "    Helper for converting input examples which have\n",
        "    a separate question, labels, answer options\n",
        "    into a single string.\n",
        "\n",
        "    Arguments\n",
        "    ---------\n",
        "    example: dict\n",
        "        Sample input from the dataset which contains the\n",
        "        question, answer labels (e.g. A, B, C, D),\n",
        "        the answer options for the question, and which\n",
        "        of the answers is correct.\n",
        "\n",
        "    Returns\n",
        "    -------\n",
        "    input_text: str\n",
        "        Formatted training text which contains the question,\n",
        "        the formatted answer options (e.g., 'A. <option 1> B. <option 2>' etc)\n",
        "        and the ground truth answer.\n",
        "    \"\"\"\n",
        "    # combine each label with its corresponding text\n",
        "    answer_options_list = list(zip(\n",
        "        example[\"choices\"][\"label\"],\n",
        "        example[\"choices\"][\"text\"]\n",
        "    ))\n",
        "    # join each label and text with . and space\n",
        "    answer_options = [\". \".join([label, text]) for label, text in answer_options_list]\n",
        "    # join the list of options with spaces into single string\n",
        "    answer_options_string = \" \".join(answer_options)\n",
        "    # combine question and answer options\n",
        "    input_text = example[\"question\"] + \" \" + answer_options_string\n",
        "    # append the true answer with a new line, \"Answer: \" and the label\n",
        "    input_text += \"\\nAnswer: \" + example[\"answerKey\"]\n",
        "\n",
        "    return input_text\n",
        "\n",
        "# process input texts of train and test sets\n",
        "massaged_datasets = dataset.map(\n",
        "    lambda example: {\n",
        "        \"text\": massage_input_text(example)\n",
        "    }\n",
        ")\n"
      ]
    },
    {
      "cell_type": "code",
      "execution_count": 195,
      "metadata": {
        "colab": {
          "base_uri": "https://localhost:8080/"
        },
        "id": "TlwY2rKr2gcO",
        "outputId": "38667b1e-aef7-406e-f116-0bcb29fc15fd"
      },
      "outputs": [
        {
          "data": {
            "text/plain": [
              "{'id': '075e483d21c29a511267ef62bedc0461',\n",
              " 'question': 'The sanctions against the school were a punishing blow, and they seemed to what the efforts the school had made to change?',\n",
              " 'question_concept': 'punishing',\n",
              " 'choices': {'label': ['A', 'B', 'C', 'D', 'E'],\n",
              "  'text': ['ignore', 'enforce', 'authoritarian', 'yell at', 'avoid']},\n",
              " 'answerKey': 'A',\n",
              " 'text': 'The sanctions against the school were a punishing blow, and they seemed to what the efforts the school had made to change? A. ignore B. enforce C. authoritarian D. yell at E. avoid\\nAnswer: A'}"
            ]
          },
          "execution_count": 195,
          "metadata": {},
          "output_type": "execute_result"
        }
      ],
      "source": [
        "# inspect a sample from our preprocessed data\n",
        "massaged_datasets[\"train\"][0]"
      ]
    },
    {
      "cell_type": "code",
      "execution_count": 196,
      "metadata": {
        "colab": {
          "base_uri": "https://localhost:8080/"
        },
        "id": "1adpJMbR2hl3",
        "outputId": "15443e1a-3c1f-4f0b-eecc-d7fffa306024"
      },
      "outputs": [
        {
          "name": "stdout",
          "output_type": "stream",
          "text": [
            "DatasetDict({\n",
            "    train: Dataset({\n",
            "        features: ['id', 'question', 'question_concept', 'choices', 'answerKey', 'text'],\n",
            "        num_rows: 9741\n",
            "    })\n",
            "    validation: Dataset({\n",
            "        features: ['id', 'question', 'question_concept', 'choices', 'answerKey', 'text'],\n",
            "        num_rows: 1221\n",
            "    })\n",
            "    test: Dataset({\n",
            "        features: ['id', 'question', 'question_concept', 'choices', 'answerKey', 'text'],\n",
            "        num_rows: 1140\n",
            "    })\n",
            "})\n"
          ]
        }
      ],
      "source": [
        "print(massaged_datasets)\n",
        "train_split = massaged_datasets['train']['text']"
      ]
    },
    {
      "cell_type": "code",
      "execution_count": 197,
      "metadata": {
        "colab": {
          "base_uri": "https://localhost:8080/"
        },
        "id": "6LhUj98o2i4T",
        "outputId": "eabcb722-e960-4e9c-9117-0f2b16d2a8f5"
      },
      "outputs": [
        {
          "data": {
            "text/plain": [
              "['The sanctions against the school were a punishing blow, and they seemed to what the efforts the school had made to change? A. ignore B. enforce C. authoritarian D. yell at E. avoid\\nAnswer: A',\n",
              " 'Sammy wanted to go to where the people were.  Where might he go? A. race track B. populated areas C. the desert D. apartment E. roadblock\\nAnswer: B',\n",
              " 'To locate a choker not located in a jewelry box or boutique where would you go? A. jewelry store B. neck C. jewlery box D. jewelry box E. boutique\\nAnswer: A',\n",
              " 'Google Maps and other highway and street GPS services have replaced what? A. united states B. mexico C. countryside D. atlas E. oceans\\nAnswer: D',\n",
              " 'The fox walked from the city into the forest, what was it looking for? A. pretty flowers. B. hen house C. natural habitat D. storybook E. dense forest\\nAnswer: C']"
            ]
          },
          "execution_count": 197,
          "metadata": {},
          "output_type": "execute_result"
        }
      ],
      "source": [
        "train_split[:5]"
      ]
    },
    {
      "cell_type": "code",
      "execution_count": 198,
      "metadata": {
        "id": "SnCb1ZyIeVbi"
      },
      "outputs": [],
      "source": [
        "# hyperparameters\n",
        "MAX_LENGTH = 64\n",
        "BATCH_SIZE = 32\n",
        "EPOCHS = 1\n",
        "NUM_TEST_STEPS = 5\n",
        "LR = 5e-4"
      ]
    },
    {
      "cell_type": "code",
      "execution_count": 199,
      "metadata": {
        "id": "5WqrYINb2jzw"
      },
      "outputs": [],
      "source": [
        "class CommonsenseQADataset(Dataset):\n",
        "    \"\"\"\n",
        "    Custom dataset class for CommonsenseQA dataset.\n",
        "    \"\"\"\n",
        "\n",
        "    def __init__(\n",
        "            self,\n",
        "            train_split,\n",
        "            test_split,\n",
        "            tokenizer,\n",
        "            max_length=MAX_LENGTH,\n",
        "            dataset_split=\"train\",\n",
        "        ) -> None:\n",
        "        \"\"\"\n",
        "        Initialize the dataset object.\n",
        "\n",
        "        Arguments\n",
        "        ---------\n",
        "        train_split: dict\n",
        "            Training data dictionary with different columns.\n",
        "        test_split: dict\n",
        "            Test data dictionary with different columns.\n",
        "        tokenizer: Tokenizer\n",
        "            Initialized tokenizer for processing samples.\n",
        "        max_length: int\n",
        "            Maximal length of inputs. All inputs will be\n",
        "            truncated or padded to this length.\n",
        "        dataset_split: str\n",
        "            Specifies which split of the dataset to use.\n",
        "            Default is \"train\".\n",
        "        \"\"\"\n",
        "        self.train_split = train_split['text']\n",
        "        self.test_split = test_split['text']\n",
        "        self.tokenizer = tokenizer\n",
        "        self.max_length = max_length\n",
        "        self.dataset_split = dataset_split\n",
        "\n",
        "    def __len__(self):\n",
        "        \"\"\"\n",
        "        Method returning the length of the dataset.\n",
        "        \"\"\"\n",
        "        return len(self.train_split) if self.dataset_split == \"train\" else len(self.test_split)\n",
        "\n",
        "    def __getitem__(self, idx):\n",
        "        \"\"\"\n",
        "        Method returning a single training example.\n",
        "        Note that it also tokenizes, truncates or pads the input text.\n",
        "        Further, it creates a mask tensor for the input text which\n",
        "        is used for causal masking in the transformer model.\n",
        "\n",
        "        Arguments\n",
        "        ---------\n",
        "        idx: int\n",
        "            Index of training sample to be retrieved from the data.\n",
        "\n",
        "        Returns\n",
        "        --------\n",
        "        tokenized_input: dict\n",
        "            Dictionary with input_ids (torch.Tensor) and an attention_mask\n",
        "            (torch.Tensor).\n",
        "        \"\"\"\n",
        "        # retrieve a training sample at the specified index idx\n",
        "        # HINT: note that this might depend on self.dataset_split\n",
        "        input_text = self.train_split[idx] if self.dataset_split == \"train\" else self.test_split[idx]\n",
        "        tokenized_input = self.tokenizer(\n",
        "            input_text,\n",
        "            max_length=self.max_length,\n",
        "            padding=\"max_length\",\n",
        "            truncation=True,\n",
        "            return_tensors=\"pt\"\n",
        "        )\n",
        "        tokenized_input[\"attention_mask\"] = (tokenized_input[\"input_ids\"] != tokenizer.pad_token_id).long()\n",
        "        return tokenized_input"
      ]
    },
    {
      "cell_type": "code",
      "execution_count": 200,
      "metadata": {
        "colab": {
          "base_uri": "https://localhost:8080/"
        },
        "id": "semn_77x2ktI",
        "outputId": "3fe880b1-10fc-441e-f5ae-bc6fdce70bb3"
      },
      "outputs": [
        {
          "name": "stdout",
          "output_type": "stream",
          "text": [
            "Device: cuda\n"
          ]
        }
      ],
      "source": [
        "# move to accelerated device\n",
        "if torch.cuda.is_available():\n",
        "    device = torch.device(\"cuda\")\n",
        "    print(f\"Device: {device}\")\n",
        "elif torch.backends.mps.is_available():\n",
        "    device = torch.device(\"mps\")\n",
        "    print(f\"Device: {device}\")\n",
        "else:\n",
        "    device = torch.device(\"cpu\")\n",
        "    print(f\"Device: {device}\")"
      ]
    },
    {
      "cell_type": "code",
      "execution_count": 201,
      "metadata": {
        "colab": {
          "base_uri": "https://localhost:8080/"
        },
        "id": "ilyewoUu2lhd",
        "outputId": "87f03907-bb00-4235-8f48-fe169976d9b9"
      },
      "outputs": [
        {
          "name": "stdout",
          "output_type": "stream",
          "text": [
            "GPT-2 size: 124.4M parameters\n"
          ]
        }
      ],
      "source": [
        "# 2. init model\n",
        "\n",
        "# load pretrained gpt2 for HF\n",
        "model = AutoModelForCausalLM.from_pretrained(\"gpt2\")\n",
        "# print num of trainable parameters\n",
        "model_size = sum(t.numel() for t in model.parameters())\n",
        "print(f\"GPT-2 size: {model_size/1000**2:.1f}M parameters\")"
      ]
    },
    {
      "cell_type": "code",
      "execution_count": 202,
      "metadata": {
        "id": "nGNt4Z0Y2mdR"
      },
      "outputs": [],
      "source": [
        "# 3. set up configurations required for the training loop\n",
        "\n",
        "# instantiate dataset with the downloaded commonsense_qa data\n",
        "train_dataset = CommonsenseQADataset(\n",
        "    train_split=massaged_datasets[\"train\"],\n",
        "    test_split=massaged_datasets[\"test\"],\n",
        "    tokenizer=tokenizer,\n",
        "    max_length=MAX_LENGTH,\n",
        "    dataset_split=\"train\"\n",
        ")\n",
        "# instantiate test dataset with the downloaded commonsense_qa data\n",
        "test_dataset = CommonsenseQADataset(\n",
        "    train_split=massaged_datasets[\"train\"],\n",
        "    test_split=massaged_datasets[\"test\"],\n",
        "    tokenizer=tokenizer,\n",
        "    max_length=MAX_LENGTH,\n",
        "    dataset_split=\"test\"\n",
        ")\n",
        "# create a DataLoader for the dataset\n",
        "# the data loader will automatically batch the data\n",
        "# and iteratively return training examples (question answer pairs) in batches\n",
        "dataloader = DataLoader(\n",
        "    train_dataset,\n",
        "    batch_size=BATCH_SIZE,\n",
        "    shuffle=True\n",
        ")\n",
        "# create a DataLoader for the test dataset\n",
        "# reason for separate data loader is that we want to\n",
        "# be able to use a different index for retreiving the test batches\n",
        "# we might also want to use a different batch size etc.\n",
        "test_dataloader = DataLoader(\n",
        "    test_dataset,\n",
        "    batch_size=BATCH_SIZE,\n",
        "    shuffle=True\n",
        ")"
      ]
    },
    {
      "cell_type": "code",
      "execution_count": 203,
      "metadata": {
        "colab": {
          "base_uri": "https://localhost:8080/"
        },
        "id": "dGwGrwkq2n0I",
        "outputId": "cb76e3b6-5d72-4eb9-e276-bfc070e1ed13"
      },
      "outputs": [
        {
          "name": "stdout",
          "output_type": "stream",
          "text": [
            "Number of training steps:  304\n"
          ]
        },
        {
          "name": "stderr",
          "output_type": "stream",
          "text": [
            "\r  0%|          | 0/304 [00:00<?, ?it/s]"
          ]
        },
        {
          "name": "stdout",
          "output_type": "stream",
          "text": [
            "Epoch 0, step 0, loss 8.430136680603027\n"
          ]
        },
        {
          "name": "stderr",
          "output_type": "stream",
          "text": [
            "\r  0%|          | 1/304 [00:01<07:29,  1.48s/it]"
          ]
        },
        {
          "name": "stdout",
          "output_type": "stream",
          "text": [
            "Test loss:  9.823072814941407\n"
          ]
        },
        {
          "name": "stderr",
          "output_type": "stream",
          "text": [
            "  3%|▎         | 10/304 [00:06<02:43,  1.80it/s]"
          ]
        },
        {
          "name": "stdout",
          "output_type": "stream",
          "text": [
            "Epoch 0, step 10, loss 2.791978120803833\n"
          ]
        },
        {
          "name": "stderr",
          "output_type": "stream",
          "text": [
            "\r  4%|▎         | 11/304 [00:07<04:08,  1.18it/s]"
          ]
        },
        {
          "name": "stdout",
          "output_type": "stream",
          "text": [
            "Test loss:  2.6841872215270994\n"
          ]
        },
        {
          "name": "stderr",
          "output_type": "stream",
          "text": [
            "  7%|▋         | 20/304 [00:12<02:42,  1.75it/s]"
          ]
        },
        {
          "name": "stdout",
          "output_type": "stream",
          "text": [
            "Epoch 0, step 20, loss 2.337411403656006\n"
          ]
        },
        {
          "name": "stderr",
          "output_type": "stream",
          "text": [
            "\r  7%|▋         | 21/304 [00:14<04:08,  1.14it/s]"
          ]
        },
        {
          "name": "stdout",
          "output_type": "stream",
          "text": [
            "Test loss:  2.2052660465240477\n"
          ]
        },
        {
          "name": "stderr",
          "output_type": "stream",
          "text": [
            " 10%|▉         | 30/304 [00:19<02:32,  1.80it/s]"
          ]
        },
        {
          "name": "stdout",
          "output_type": "stream",
          "text": [
            "Epoch 0, step 30, loss 1.8503544330596924\n"
          ]
        },
        {
          "name": "stderr",
          "output_type": "stream",
          "text": [
            "\r 10%|█         | 31/304 [00:20<03:56,  1.15it/s]"
          ]
        },
        {
          "name": "stdout",
          "output_type": "stream",
          "text": [
            "Test loss:  2.013463592529297\n"
          ]
        },
        {
          "name": "stderr",
          "output_type": "stream",
          "text": [
            " 13%|█▎        | 40/304 [00:25<02:32,  1.73it/s]"
          ]
        },
        {
          "name": "stdout",
          "output_type": "stream",
          "text": [
            "Epoch 0, step 40, loss 1.9480000734329224\n"
          ]
        },
        {
          "name": "stderr",
          "output_type": "stream",
          "text": [
            "\r 13%|█▎        | 41/304 [00:27<03:43,  1.18it/s]"
          ]
        },
        {
          "name": "stdout",
          "output_type": "stream",
          "text": [
            "Test loss:  1.8774001598358154\n"
          ]
        },
        {
          "name": "stderr",
          "output_type": "stream",
          "text": [
            " 16%|█▋        | 50/304 [00:32<02:17,  1.85it/s]"
          ]
        },
        {
          "name": "stdout",
          "output_type": "stream",
          "text": [
            "Epoch 0, step 50, loss 1.8315768241882324\n"
          ]
        },
        {
          "name": "stderr",
          "output_type": "stream",
          "text": [
            "\r 17%|█▋        | 51/304 [00:33<03:24,  1.24it/s]"
          ]
        },
        {
          "name": "stdout",
          "output_type": "stream",
          "text": [
            "Test loss:  1.8499488830566406\n"
          ]
        },
        {
          "name": "stderr",
          "output_type": "stream",
          "text": [
            " 20%|█▉        | 60/304 [00:38<02:11,  1.86it/s]"
          ]
        },
        {
          "name": "stdout",
          "output_type": "stream",
          "text": [
            "Epoch 0, step 60, loss 1.7577944993972778\n"
          ]
        },
        {
          "name": "stderr",
          "output_type": "stream",
          "text": [
            "\r 20%|██        | 61/304 [00:39<03:15,  1.24it/s]"
          ]
        },
        {
          "name": "stdout",
          "output_type": "stream",
          "text": [
            "Test loss:  1.8674168348312379\n"
          ]
        },
        {
          "name": "stderr",
          "output_type": "stream",
          "text": [
            " 23%|██▎       | 70/304 [00:44<02:05,  1.86it/s]"
          ]
        },
        {
          "name": "stdout",
          "output_type": "stream",
          "text": [
            "Epoch 0, step 70, loss 1.5936130285263062\n"
          ]
        },
        {
          "name": "stderr",
          "output_type": "stream",
          "text": [
            "\r 23%|██▎       | 71/304 [00:45<03:06,  1.25it/s]"
          ]
        },
        {
          "name": "stdout",
          "output_type": "stream",
          "text": [
            "Test loss:  1.7969208002090453\n"
          ]
        },
        {
          "name": "stderr",
          "output_type": "stream",
          "text": [
            " 26%|██▋       | 80/304 [00:50<01:59,  1.88it/s]"
          ]
        },
        {
          "name": "stdout",
          "output_type": "stream",
          "text": [
            "Epoch 0, step 80, loss 1.5627039670944214\n"
          ]
        },
        {
          "name": "stderr",
          "output_type": "stream",
          "text": [
            "\r 27%|██▋       | 81/304 [00:52<02:58,  1.25it/s]"
          ]
        },
        {
          "name": "stdout",
          "output_type": "stream",
          "text": [
            "Test loss:  1.8011416673660279\n"
          ]
        },
        {
          "name": "stderr",
          "output_type": "stream",
          "text": [
            " 30%|██▉       | 90/304 [00:56<01:54,  1.87it/s]"
          ]
        },
        {
          "name": "stdout",
          "output_type": "stream",
          "text": [
            "Epoch 0, step 90, loss 1.6745761632919312\n"
          ]
        },
        {
          "name": "stderr",
          "output_type": "stream",
          "text": [
            "\r 30%|██▉       | 91/304 [00:58<02:50,  1.25it/s]"
          ]
        },
        {
          "name": "stdout",
          "output_type": "stream",
          "text": [
            "Test loss:  1.7844794273376465\n"
          ]
        },
        {
          "name": "stderr",
          "output_type": "stream",
          "text": [
            " 33%|███▎      | 100/304 [01:02<01:49,  1.87it/s]"
          ]
        },
        {
          "name": "stdout",
          "output_type": "stream",
          "text": [
            "Epoch 0, step 100, loss 1.6099506616592407\n"
          ]
        },
        {
          "name": "stderr",
          "output_type": "stream",
          "text": [
            "\r 33%|███▎      | 101/304 [01:04<02:42,  1.25it/s]"
          ]
        },
        {
          "name": "stdout",
          "output_type": "stream",
          "text": [
            "Test loss:  1.8792585134506226\n"
          ]
        },
        {
          "name": "stderr",
          "output_type": "stream",
          "text": [
            " 36%|███▌      | 110/304 [01:08<01:43,  1.87it/s]"
          ]
        },
        {
          "name": "stdout",
          "output_type": "stream",
          "text": [
            "Epoch 0, step 110, loss 1.5724166631698608\n"
          ]
        },
        {
          "name": "stderr",
          "output_type": "stream",
          "text": [
            "\r 37%|███▋      | 111/304 [01:10<02:34,  1.25it/s]"
          ]
        },
        {
          "name": "stdout",
          "output_type": "stream",
          "text": [
            "Test loss:  1.8400070190429687\n"
          ]
        },
        {
          "name": "stderr",
          "output_type": "stream",
          "text": [
            " 39%|███▉      | 120/304 [01:15<01:38,  1.87it/s]"
          ]
        },
        {
          "name": "stdout",
          "output_type": "stream",
          "text": [
            "Epoch 0, step 120, loss 1.6862791776657104\n"
          ]
        },
        {
          "name": "stderr",
          "output_type": "stream",
          "text": [
            "\r 40%|███▉      | 121/304 [01:16<02:26,  1.25it/s]"
          ]
        },
        {
          "name": "stdout",
          "output_type": "stream",
          "text": [
            "Test loss:  1.8317112922668457\n"
          ]
        },
        {
          "name": "stderr",
          "output_type": "stream",
          "text": [
            " 43%|████▎     | 130/304 [01:21<01:33,  1.87it/s]"
          ]
        },
        {
          "name": "stdout",
          "output_type": "stream",
          "text": [
            "Epoch 0, step 130, loss 1.6469334363937378\n"
          ]
        },
        {
          "name": "stderr",
          "output_type": "stream",
          "text": [
            "\r 43%|████▎     | 131/304 [01:22<02:18,  1.25it/s]"
          ]
        },
        {
          "name": "stdout",
          "output_type": "stream",
          "text": [
            "Test loss:  1.7731852054595947\n"
          ]
        },
        {
          "name": "stderr",
          "output_type": "stream",
          "text": [
            " 46%|████▌     | 140/304 [01:27<01:28,  1.86it/s]"
          ]
        },
        {
          "name": "stdout",
          "output_type": "stream",
          "text": [
            "Epoch 0, step 140, loss 1.7832781076431274\n"
          ]
        },
        {
          "name": "stderr",
          "output_type": "stream",
          "text": [
            "\r 46%|████▋     | 141/304 [01:28<02:11,  1.24it/s]"
          ]
        },
        {
          "name": "stdout",
          "output_type": "stream",
          "text": [
            "Test loss:  1.8486054420471192\n"
          ]
        },
        {
          "name": "stderr",
          "output_type": "stream",
          "text": [
            " 49%|████▉     | 150/304 [01:33<01:23,  1.85it/s]"
          ]
        },
        {
          "name": "stdout",
          "output_type": "stream",
          "text": [
            "Epoch 0, step 150, loss 1.6080965995788574\n"
          ]
        },
        {
          "name": "stderr",
          "output_type": "stream",
          "text": [
            "\r 50%|████▉     | 151/304 [01:34<02:03,  1.24it/s]"
          ]
        },
        {
          "name": "stdout",
          "output_type": "stream",
          "text": [
            "Test loss:  1.7844448566436768\n"
          ]
        },
        {
          "name": "stderr",
          "output_type": "stream",
          "text": [
            " 53%|█████▎    | 160/304 [01:39<01:17,  1.85it/s]"
          ]
        },
        {
          "name": "stdout",
          "output_type": "stream",
          "text": [
            "Epoch 0, step 160, loss 1.7415649890899658\n"
          ]
        },
        {
          "name": "stderr",
          "output_type": "stream",
          "text": [
            "\r 53%|█████▎    | 161/304 [01:41<01:56,  1.23it/s]"
          ]
        },
        {
          "name": "stdout",
          "output_type": "stream",
          "text": [
            "Test loss:  1.8650627613067627\n"
          ]
        },
        {
          "name": "stderr",
          "output_type": "stream",
          "text": [
            " 56%|█████▌    | 170/304 [01:45<01:12,  1.84it/s]"
          ]
        },
        {
          "name": "stdout",
          "output_type": "stream",
          "text": [
            "Epoch 0, step 170, loss 1.6287921667099\n"
          ]
        },
        {
          "name": "stderr",
          "output_type": "stream",
          "text": [
            "\r 56%|█████▋    | 171/304 [01:47<01:47,  1.23it/s]"
          ]
        },
        {
          "name": "stdout",
          "output_type": "stream",
          "text": [
            "Test loss:  1.8070050716400146\n"
          ]
        },
        {
          "name": "stderr",
          "output_type": "stream",
          "text": [
            " 59%|█████▉    | 180/304 [01:52<01:06,  1.86it/s]"
          ]
        },
        {
          "name": "stdout",
          "output_type": "stream",
          "text": [
            "Epoch 0, step 180, loss 1.4769266843795776\n"
          ]
        },
        {
          "name": "stderr",
          "output_type": "stream",
          "text": [
            "\r 60%|█████▉    | 181/304 [01:53<01:39,  1.24it/s]"
          ]
        },
        {
          "name": "stdout",
          "output_type": "stream",
          "text": [
            "Test loss:  1.748841977119446\n"
          ]
        },
        {
          "name": "stderr",
          "output_type": "stream",
          "text": [
            " 62%|██████▎   | 190/304 [01:58<01:01,  1.85it/s]"
          ]
        },
        {
          "name": "stdout",
          "output_type": "stream",
          "text": [
            "Epoch 0, step 190, loss 1.5035327672958374\n"
          ]
        },
        {
          "name": "stderr",
          "output_type": "stream",
          "text": [
            "\r 63%|██████▎   | 191/304 [01:59<01:31,  1.24it/s]"
          ]
        },
        {
          "name": "stdout",
          "output_type": "stream",
          "text": [
            "Test loss:  1.7514806270599366\n"
          ]
        },
        {
          "name": "stderr",
          "output_type": "stream",
          "text": [
            " 66%|██████▌   | 200/304 [02:04<00:56,  1.85it/s]"
          ]
        },
        {
          "name": "stdout",
          "output_type": "stream",
          "text": [
            "Epoch 0, step 200, loss 1.6017351150512695\n"
          ]
        },
        {
          "name": "stderr",
          "output_type": "stream",
          "text": [
            "\r 66%|██████▌   | 201/304 [02:05<01:23,  1.24it/s]"
          ]
        },
        {
          "name": "stdout",
          "output_type": "stream",
          "text": [
            "Test loss:  1.7885633707046509\n"
          ]
        },
        {
          "name": "stderr",
          "output_type": "stream",
          "text": [
            " 69%|██████▉   | 210/304 [02:10<00:50,  1.86it/s]"
          ]
        },
        {
          "name": "stdout",
          "output_type": "stream",
          "text": [
            "Epoch 0, step 210, loss 1.4932568073272705\n"
          ]
        },
        {
          "name": "stderr",
          "output_type": "stream",
          "text": [
            "\r 69%|██████▉   | 211/304 [02:12<01:14,  1.24it/s]"
          ]
        },
        {
          "name": "stdout",
          "output_type": "stream",
          "text": [
            "Test loss:  1.7302035808563232\n"
          ]
        },
        {
          "name": "stderr",
          "output_type": "stream",
          "text": [
            " 72%|███████▏  | 220/304 [02:16<00:45,  1.87it/s]"
          ]
        },
        {
          "name": "stdout",
          "output_type": "stream",
          "text": [
            "Epoch 0, step 220, loss 1.5073091983795166\n"
          ]
        },
        {
          "name": "stderr",
          "output_type": "stream",
          "text": [
            "\r 73%|███████▎  | 221/304 [02:18<01:06,  1.24it/s]"
          ]
        },
        {
          "name": "stdout",
          "output_type": "stream",
          "text": [
            "Test loss:  1.7794461250305176\n"
          ]
        },
        {
          "name": "stderr",
          "output_type": "stream",
          "text": [
            " 76%|███████▌  | 230/304 [02:22<00:39,  1.86it/s]"
          ]
        },
        {
          "name": "stdout",
          "output_type": "stream",
          "text": [
            "Epoch 0, step 230, loss 1.530019998550415\n"
          ]
        },
        {
          "name": "stderr",
          "output_type": "stream",
          "text": [
            "\r 76%|███████▌  | 231/304 [02:24<00:58,  1.24it/s]"
          ]
        },
        {
          "name": "stdout",
          "output_type": "stream",
          "text": [
            "Test loss:  1.7752486228942872\n"
          ]
        },
        {
          "name": "stderr",
          "output_type": "stream",
          "text": [
            " 79%|███████▉  | 240/304 [02:29<00:34,  1.86it/s]"
          ]
        },
        {
          "name": "stdout",
          "output_type": "stream",
          "text": [
            "Epoch 0, step 240, loss 1.4198664426803589\n"
          ]
        },
        {
          "name": "stderr",
          "output_type": "stream",
          "text": [
            "\r 79%|███████▉  | 241/304 [02:30<00:50,  1.24it/s]"
          ]
        },
        {
          "name": "stdout",
          "output_type": "stream",
          "text": [
            "Test loss:  1.7153461694717407\n"
          ]
        },
        {
          "name": "stderr",
          "output_type": "stream",
          "text": [
            " 82%|████████▏ | 250/304 [02:35<00:29,  1.86it/s]"
          ]
        },
        {
          "name": "stdout",
          "output_type": "stream",
          "text": [
            "Epoch 0, step 250, loss 1.5816420316696167\n"
          ]
        },
        {
          "name": "stderr",
          "output_type": "stream",
          "text": [
            "\r 83%|████████▎ | 251/304 [02:36<00:42,  1.24it/s]"
          ]
        },
        {
          "name": "stdout",
          "output_type": "stream",
          "text": [
            "Test loss:  1.7942899942398072\n"
          ]
        },
        {
          "name": "stderr",
          "output_type": "stream",
          "text": [
            " 86%|████████▌ | 260/304 [02:41<00:23,  1.86it/s]"
          ]
        },
        {
          "name": "stdout",
          "output_type": "stream",
          "text": [
            "Epoch 0, step 260, loss 1.4992259740829468\n"
          ]
        },
        {
          "name": "stderr",
          "output_type": "stream",
          "text": [
            "\r 86%|████████▌ | 261/304 [02:42<00:34,  1.25it/s]"
          ]
        },
        {
          "name": "stdout",
          "output_type": "stream",
          "text": [
            "Test loss:  1.7564634799957275\n"
          ]
        },
        {
          "name": "stderr",
          "output_type": "stream",
          "text": [
            " 89%|████████▉ | 270/304 [02:47<00:18,  1.85it/s]"
          ]
        },
        {
          "name": "stdout",
          "output_type": "stream",
          "text": [
            "Epoch 0, step 270, loss 1.7179090976715088\n"
          ]
        },
        {
          "name": "stderr",
          "output_type": "stream",
          "text": [
            "\r 89%|████████▉ | 271/304 [02:48<00:26,  1.23it/s]"
          ]
        },
        {
          "name": "stdout",
          "output_type": "stream",
          "text": [
            "Test loss:  1.8485793113708495\n"
          ]
        },
        {
          "name": "stderr",
          "output_type": "stream",
          "text": [
            " 92%|█████████▏| 280/304 [02:53<00:12,  1.86it/s]"
          ]
        },
        {
          "name": "stdout",
          "output_type": "stream",
          "text": [
            "Epoch 0, step 280, loss 1.7155706882476807\n"
          ]
        },
        {
          "name": "stderr",
          "output_type": "stream",
          "text": [
            "\r 92%|█████████▏| 281/304 [02:55<00:18,  1.24it/s]"
          ]
        },
        {
          "name": "stdout",
          "output_type": "stream",
          "text": [
            "Test loss:  1.823518490791321\n"
          ]
        },
        {
          "name": "stderr",
          "output_type": "stream",
          "text": [
            " 95%|█████████▌| 290/304 [02:59<00:07,  1.86it/s]"
          ]
        },
        {
          "name": "stdout",
          "output_type": "stream",
          "text": [
            "Epoch 0, step 290, loss 1.454245924949646\n"
          ]
        },
        {
          "name": "stderr",
          "output_type": "stream",
          "text": [
            "\r 96%|█████████▌| 291/304 [03:01<00:10,  1.24it/s]"
          ]
        },
        {
          "name": "stdout",
          "output_type": "stream",
          "text": [
            "Test loss:  1.8921875953674316\n"
          ]
        },
        {
          "name": "stderr",
          "output_type": "stream",
          "text": [
            " 99%|█████████▊| 300/304 [03:05<00:02,  1.86it/s]"
          ]
        },
        {
          "name": "stdout",
          "output_type": "stream",
          "text": [
            "Epoch 0, step 300, loss 1.5271685123443604\n"
          ]
        },
        {
          "name": "stderr",
          "output_type": "stream",
          "text": [
            "\r 99%|█████████▉| 301/304 [03:07<00:02,  1.24it/s]"
          ]
        },
        {
          "name": "stdout",
          "output_type": "stream",
          "text": [
            "Test loss:  1.8617429256439209\n"
          ]
        },
        {
          "name": "stderr",
          "output_type": "stream",
          "text": [
            "100%|██████████| 304/304 [03:08<00:00,  1.61it/s]\n"
          ]
        }
      ],
      "source": [
        "# 4. run the training of the model\n",
        "# Hint: for implementing the forward pass and loss computation, carefully look at the exercise sheets\n",
        "# and the links to examples in HF tutorials.\n",
        "\n",
        "# put the model in training mode\n",
        "model.train()\n",
        "# move the model to the device (e.g. GPU)\n",
        "model = model.to(device)\n",
        "\n",
        "# trianing configutations\n",
        "# feel free to play around with these\n",
        "epochs  = EPOCHS\n",
        "train_steps = len(train_dataset) // BATCH_SIZE\n",
        "print(\"Number of training steps: \", train_steps)\n",
        "# number of test steps to perform every 10 training steps\n",
        "# (smaller that the entore test split for reasons of comp. time)\n",
        "num_test_steps = NUM_TEST_STEPS\n",
        "\n",
        "# define optimizer and learning rate\n",
        "optimizer = torch.optim.AdamW(model.parameters(), lr=LR)\n",
        "# define some variables to accumulate the losses\n",
        "losses = []\n",
        "test_losses = []\n",
        "\n",
        "# iterate over epochs\n",
        "for e in range(epochs):\n",
        "    # iterate over training steps\n",
        "    for i in tqdm(range(train_steps)):\n",
        "        # get a batch of data\n",
        "        x = next(iter(dataloader))\n",
        "        # move the data to the device (GPU)\n",
        "        x = x.to(device)\n",
        "\n",
        "        # forward pass through the model\n",
        "        ### YOUR CODE HERE ###\n",
        "        outputs = model(\n",
        "            input_ids=x[\"input_ids\"],\n",
        "            attention_mask=x[\"attention_mask\"],\n",
        "            labels=x[\"input_ids\"]\n",
        "        )\n",
        "        # get the loss\n",
        "        loss = outputs.loss\n",
        "        # backward pass\n",
        "        loss.backward()\n",
        "        losses.append(loss.item())\n",
        "        # update the parameters of the model\n",
        "        optimizer.step()\n",
        "\n",
        "        # zero out gradient for next step\n",
        "        optimizer.zero_grad()\n",
        "\n",
        "        # evaluate on test set every 10 steps\n",
        "        if i % 10 == 0:\n",
        "            print(f\"Epoch {e}, step {i}, loss {loss.item()}\")\n",
        "            # track test loss for the evaluation iteration\n",
        "            test_loss = 0\n",
        "            for j in range(num_test_steps):\n",
        "                # get test batch\n",
        "                x_test = next(iter(test_dataloader))\n",
        "                x_test = x_test.to(device)\n",
        "                with torch.no_grad():\n",
        "                    test_outputs = model(\n",
        "                        input_ids=x_test[\"input_ids\"],\n",
        "                        attention_mask=x_test[\"attention_mask\"],\n",
        "                        labels=x_test[\"input_ids\"]\n",
        "                    )\n",
        "                test_loss += test_outputs.loss.item()\n",
        "\n",
        "            test_losses.append(test_loss / num_test_steps)\n",
        "            print(\"Test loss: \", test_loss/num_test_steps)"
      ]
    },
    {
      "cell_type": "code",
      "execution_count": 204,
      "metadata": {
        "colab": {
          "base_uri": "https://localhost:8080/"
        },
        "id": "JY_dBaJJ2q-p",
        "outputId": "a142d178-2d9f-4ce0-f3ee-24b168cb9939"
      },
      "outputs": [
        {
          "data": {
            "text/plain": [
              "torch.Size([32, 1, 64])"
            ]
          },
          "execution_count": 204,
          "metadata": {},
          "output_type": "execute_result"
        }
      ],
      "source": [
        "x['input_ids'].shape  # [batch_size, 1, seq_len]"
      ]
    },
    {
      "cell_type": "code",
      "execution_count": 208,
      "metadata": {
        "colab": {
          "base_uri": "https://localhost:8080/",
          "height": 472
        },
        "id": "XldORghG2rz-",
        "outputId": "7b9d228c-4541-40ce-ef20-153ee0c0e0e8"
      },
      "outputs": [
        {
          "data": {
            "image/png": "[encoded data removed]",
            "text/plain": [
              "<Figure size 640x480 with 1 Axes>"
            ]
          },
          "metadata": {},
          "output_type": "display_data"
        }
      ],
      "source": [
        "# 5. Plot the fine-tuning loss and MAKE SURE TO SAVE IT AND SUBMIT IT\n",
        "\n",
        "# plot training losses with blue and test losses with red on x axis\n",
        "plt.plot(losses, label=\"Training loss\")\n",
        "plt.plot(np.arange(0, len(losses), 10), test_losses, label=\"Test loss\")\n",
        "plt.title(\"GPT-2 fine-tuning loss\")\n",
        "plt.xlabel(\"Training steps\")\n",
        "plt.ylabel(\"Loss\")\n",
        "plt.legend()\n",
        "\n",
        "plt.savefig(\"gpt2_loss.png\")\n",
        "plt.show()\n"
      ]
    },
    {
      "cell_type": "code",
      "execution_count": 213,
      "metadata": {
        "colab": {
          "base_uri": "https://localhost:8080/"
        },
        "id": "RCVi_hpB2szv",
        "outputId": "f09f314e-a427-426f-86c6-1cf85b780dd3"
      },
      "outputs": [
        {
          "data": {
            "text/plain": [
              "[('A revolving door is convenient for two direction travel, but it also serves as a security measure at a what? A. bank B. library C. department store D. mall E. new york\\nAnswer: ',\n",
              "  'A'),\n",
              " ('What do people aim to do at work? A. complete job B. learn from each other C. kill animals D. wear hats E. talk to each other\\nAnswer: ',\n",
              "  'A'),\n",
              " ('Where would you find magazines along side many other printed works? A. doctor B. bookstore C. market D. train station E. mortuary\\nAnswer: ',\n",
              "  'B'),\n",
              " ('Where are  you likely to find a hamburger? A. fast food restaurant B. pizza C. ground up dead cows D. mouth E. cow carcus\\nAnswer: ',\n",
              "  'A'),\n",
              " ('James was looking for a good place to buy farmland.  Where might he look? A. midwest B. countryside C. estate D. farming areas E. illinois\\nAnswer: ',\n",
              "  'A'),\n",
              " ('What island country is ferret popular? A. own home B. north carolina C. great britain D. hutch E. outdoors\\nAnswer: ',\n",
              "  'C'),\n",
              " (\"In what Spanish speaking North American country can you get a great cup of coffee? A. mildred's coffee shop B. mexico C. diner D. kitchen E. canteen\\nAnswer: \",\n",
              "  'B'),\n",
              " ('What do animals do when an enemy is approaching? A. feel pleasure B. procreate C. pass water D. listen to each other E. sing\\nAnswer: ',\n",
              "  'D'),\n",
              " ('Reading newspaper one of many ways to practice your what? A. literacy B. knowing how to read C. money D. buying E. money bank\\nAnswer: ',\n",
              "  'A'),\n",
              " ('What do people typically do while playing guitar? A. cry B. hear sounds C. singing D. arthritis E. making music\\nAnswer: ',\n",
              "  'C')]"
            ]
          },
          "execution_count": 213,
          "metadata": {},
          "output_type": "execute_result"
        }
      ],
      "source": [
        "# print a few predictions on the eval dataset to see what the model predicts\n",
        "\n",
        "# construct a list of questions without the ground truth label\n",
        "# and compare prediction of the model with the ground truth\n",
        "\n",
        "def construct_test_samples(example):\n",
        "    \"\"\"\n",
        "    Helper for converting input examples which have\n",
        "    a separate qquestion, labels, answer options\n",
        "    into a single string for testing the model.\n",
        "\n",
        "    Arguments\n",
        "    ---------\n",
        "    example: dict\n",
        "        Sample input from the dataset which contains the\n",
        "        question, answer labels (e.g. A, B, C, D),\n",
        "        the answer options for the question, and which\n",
        "        of the answers is correct.\n",
        "\n",
        "    Returns\n",
        "    -------\n",
        "    input_text: str, str\n",
        "        Tuple: Formatted test text which contains the question,\n",
        "        the forwatted answer options (e.g., 'A. <option 1> B. <option 2>' etc);\n",
        "        the ground truth answer label only.\n",
        "    \"\"\"\n",
        "\n",
        "    answer_options_list = list(zip(\n",
        "        example[\"choices\"][\"label\"],\n",
        "        example[\"choices\"][\"text\"]\n",
        "    ))\n",
        "    # join each label and text with . and space\n",
        "    answer_options = [\". \".join([label, text]) for label, text in answer_options_list]\n",
        "    # join the list of options with spaces into single string\n",
        "    answer_options_string = \" \".join(answer_options)\n",
        "    # combine question and answer options\n",
        "    input_text = example[\"question\"] + \" \" + answer_options_string\n",
        "    # create the test input text which should be:\n",
        "    # the input text, followed by the string \"Answer: \"\n",
        "    # we don't need to append the ground truth answer since we are creating test inputs\n",
        "    # and the answer should be predicted.\n",
        "    input_text += \"\\nAnswer: \"\n",
        "\n",
        "    return input_text, example[\"answerKey\"]\n",
        "\n",
        "test_samples = [construct_test_samples(dataset[\"validation\"][i]) for i in range(10)]\n",
        "test_samples"
      ]
    },
    {
      "cell_type": "code",
      "execution_count": 219,
      "metadata": {
        "colab": {
          "base_uri": "https://localhost:8080/"
        },
        "id": "XGC-UcRA2t-D",
        "outputId": "524c84e7-c2d1-4b0d-e574-f3cd3baa3254"
      },
      "outputs": [
        {
          "name": "stderr",
          "output_type": "stream",
          "text": [
            "Setting `pad_token_id` to `eos_token_id`:50256 for open-end generation.\n",
            "Setting `pad_token_id` to `eos_token_id`:50256 for open-end generation.\n",
            "Setting `pad_token_id` to `eos_token_id`:50256 for open-end generation.\n",
            "Setting `pad_token_id` to `eos_token_id`:50256 for open-end generation.\n",
            "Setting `pad_token_id` to `eos_token_id`:50256 for open-end generation.\n",
            "Setting `pad_token_id` to `eos_token_id`:50256 for open-end generation.\n",
            "Setting `pad_token_id` to `eos_token_id`:50256 for open-end generation.\n",
            "Setting `pad_token_id` to `eos_token_id`:50256 for open-end generation.\n",
            "Setting `pad_token_id` to `eos_token_id`:50256 for open-end generation.\n",
            "Setting `pad_token_id` to `eos_token_id`:50256 for open-end generation.\n"
          ]
        },
        {
          "name": "stdout",
          "output_type": "stream",
          "text": [
            "Predictions of trained model \n",
            "Question 1:\n",
            "Q: A revolving door is convenient for two direction travel, but it also serves as a security measure at a what? A. bank B. library C. department store D. mall E. new york\n",
            "Answer: \n",
            "Predicted answer: A revolving door is convenient for two direction travel, but it also serves as a security measure at a what? A. bank B. library C. department store D. mall E. new york\n",
            "Answer:  A.\n",
            "True answer: A\n",
            "\n",
            "\n",
            "Question 2:\n",
            "Q: What do people aim to do at work? A. complete job B. learn from each other C. kill animals D. wear hats E. talk to each other\n",
            "Answer: \n",
            "Predicted answer: What do people aim to do at work? A. complete job B. learn from each other C. kill animals D. wear hats E. talk to each other\n",
            "Answer:  A.\n",
            "True answer: A\n",
            "\n",
            "\n",
            "Question 3:\n",
            "Q: Where would you find magazines along side many other printed works? A. doctor B. bookstore C. market D. train station E. mortuary\n",
            "Answer: \n",
            "Predicted answer: Where would you find magazines along side many other printed works? A. doctor B. bookstore C. market D. train station E. mortuary\n",
            "Answer:  Where might\n",
            "True answer: B\n",
            "\n",
            "\n",
            "Question 4:\n",
            "Q: Where are  you likely to find a hamburger? A. fast food restaurant B. pizza C. ground up dead cows D. mouth E. cow carcus\n",
            "Answer: \n",
            "Predicted answer: Where are  you likely to find a hamburger? A. fast food restaurant B. pizza C. ground up dead cows D. mouth E. cow carcus\n",
            "Answer:  Where might\n",
            "True answer: A\n",
            "\n",
            "\n",
            "Question 5:\n",
            "Q: James was looking for a good place to buy farmland.  Where might he look? A. midwest B. countryside C. estate D. farming areas E. illinois\n",
            "Answer: \n",
            "Predicted answer: James was looking for a good place to buy farmland.  Where might he look? A. midwest B. countryside C. estate D. farming areas E. illinois\n",
            "Answer:  A.\n",
            "True answer: A\n",
            "\n",
            "\n",
            "Question 6:\n",
            "Q: What island country is ferret popular? A. own home B. north carolina C. great britain D. hutch E. outdoors\n",
            "Answer: \n",
            "Predicted answer: What island country is ferret popular? A. own home B. north carolina C. great britain D. hutch E. outdoors\n",
            "Answer:  Where would\n",
            "True answer: C\n",
            "\n",
            "\n",
            "Question 7:\n",
            "Q: In what Spanish speaking North American country can you get a great cup of coffee? A. mildred's coffee shop B. mexico C. diner D. kitchen E. canteen\n",
            "Answer: \n",
            "Predicted answer: In what Spanish speaking North American country can you get a great cup of coffee? A. mildred's coffee shop B. mexico C. diner D. kitchen E. canteen\n",
            "Answer:  A.\n",
            "True answer: B\n",
            "\n",
            "\n",
            "Question 8:\n",
            "Q: What do animals do when an enemy is approaching? A. feel pleasure B. procreate C. pass water D. listen to each other E. sing\n",
            "Answer: \n",
            "Predicted answer: What do animals do when an enemy is approaching? A. feel pleasure B. procreate C. pass water D. listen to each other E. sing\n",
            "Answer:  A.\n",
            "True answer: D\n",
            "\n",
            "\n",
            "Question 9:\n",
            "Q: Reading newspaper one of many ways to practice your what? A. literacy B. knowing how to read C. money D. buying E. money bank\n",
            "Answer: \n",
            "Predicted answer: Reading newspaper one of many ways to practice your what? A. literacy B. knowing how to read C. money D. buying E. money bank\n",
            "Answer:  A.\n",
            "True answer: A\n",
            "\n",
            "\n",
            "Question 10:\n",
            "Q: What do people typically do while playing guitar? A. cry B. hear sounds C. singing D. arthritis E. making music\n",
            "Answer: \n",
            "Predicted answer: What do people typically do while playing guitar? A. cry B. hear sounds C. singing D. arthritis E. making music\n",
            "Answer:  A.\n",
            "True answer: C\n",
            "\n",
            "\n"
          ]
        }
      ],
      "source": [
        "# Test the model\n",
        "\n",
        "# set it to evaluation mode\n",
        "model.eval()\n",
        "predictions = []\n",
        "for sample in test_samples:\n",
        "    input_text = sample[0]\n",
        "    input_ids = tokenizer(input_text, return_tensors=\"pt\").to(device)\n",
        "    output = model.generate(\n",
        "        input_ids.input_ids,\n",
        "        attention_mask = input_ids.attention_mask,\n",
        "        max_new_tokens=2,\n",
        "        do_sample=True,\n",
        "        temperature=0.4,\n",
        "    )\n",
        "\n",
        "    prediction = tokenizer.decode(output[0], skip_special_tokens=True)\n",
        "    predictions.append((input_text, prediction, sample[1]))\n",
        "\n",
        "print(\"Predictions of trained model \")\n",
        "for i, (input_text, prediction, true_answer) in enumerate(predictions):\n",
        "    print(f\"Question {i+1}:\")\n",
        "    print(f\"Q: {input_text}\")\n",
        "    print(f\"Predicted answer: {prediction}\")\n",
        "    print(f\"True answer: {true_answer}\")\n",
        "    print(\"\\n\")"
      ]
    },
    {
      "cell_type": "markdown",
      "metadata": {
        "id": "nFz6jN-Abr7g"
      },
      "source": [
        "### Questions\n",
        "1. Provide a brief description of the CommonsenseQA dataset. What kind of task was it developed for, what do the single columns contain?\n",
        "\n",
        "2. What loss function is computed for this training? Provide the name of the function (conceptual, not necessarily the name of a function in the code).\n",
        "\n",
        "3. Given your loss curve, do you think your model will perform well on answering common sense questions? (Note: there is no single right answer; you need to interpret your specific plot)\n",
        "\n",
        "4. Inspect the predictions above. On how many test questions did the model predict the right answer? Compute the accuracy."
      ]
    },
    {
      "cell_type": "markdown",
      "metadata": {
        "id": "G7g6Bfq9l5Ko"
      },
      "source": [
        "### Answers\n",
        "1. CommonsenseQA dataset consists of common sense questions (prepared via Amazon Mechnical Turk) and multiple-choice answers. It contains 12,102 questions in total. It was initially introduced by the Allen Institute with the following paper: [CommonSenseQA: A Question Answering Challenge Targeting Commonsense Knowledge](https://arxiv.org/pdf/1811.00937v2). They also provide the details of their method for generating commonsense questions at scale from ConceptNet.\n",
        "\n",
        "  As the name suggests, this dataset is developed for developing models that can answer common sense questions. Each row consists of a `unique id`, `question`, `question concept`, `choices` and `answer key`. Choices consist of `labels` (multiple choices) and `texts` corresponding to each label. We haven't used the `question concept` field in our task but it was given as a source concept to workers during the question creation procedure.\n",
        "\n",
        "2. Huggingface uses \"language modeling loss\" for its modeling - which is `Cross Entropy` loss in this case. Notice that, the negative log likelihood and cross entropy are equivalent concepts but they have slightly different implementations in DL libraries (varying input formats etc.). NLL is also equivalent to \"surprisal\" which is a common term used in natural language processing.\n",
        "\n",
        "3. I don't think this model will perform well on answering common sense questions. Both training and test losses exhibit a rapid decrease initially, followed by a plateau-shaped trajectory. While there doesn't appear to be a critical overfitting issue, neither the training loss nor the test loss can go below a value of approximately 2. In the dataset paper, the authors compare the performances of various models and approaches, including a fine-tuned GPT-2 model, which achieves only around 45% accuracy on the random split dataset. This performance is significantly lower than the human level reported in the paper (89%), indicating that the complexity of the GPT-2 model may be the main limiting factor for our results.\n",
        "\n",
        "\n",
        "4. Across different runs, the model generates varying predictions, resulting in instability in accuracy. It would be beneficial to take multiple samples and compute the average accuracy or, alternatively, to collect multiple sample means of accuracy and construct a confidence interval around it. In this particular case, I achieved 4 correct predictions out of 10 questions (40% accuracy), yielding a higher accuracy than random classification (20%). However, it's important to note that accuracy may fluctuate from run to run.\n",
        "\n"
      ]
    },
    {
      "cell_type": "code",
      "execution_count": null,
      "metadata": {
        "id": "ZlOK-2TV24Eg"
      },
      "outputs": [],
      "source": []
    }
  ],
  "metadata": {
    "accelerator": "GPU",
    "colab": {
      "gpuType": "T4",
      "provenance": []
    },
    "kernelspec": {
      "display_name": "Python 3",
      "name": "python3"
    },
    "language_info": {
      "codemirror_mode": {
        "name": "ipython",
        "version": 3
      },
      "file_extension": ".py",
      "mimetype": "text/x-python",
      "name": "python",
      "nbconvert_exporter": "python",
      "pygments_lexer": "ipython3",
      "version": "3.9.13"
    }
  },
  "nbformat": 4,
  "nbformat_minor": 0
}
